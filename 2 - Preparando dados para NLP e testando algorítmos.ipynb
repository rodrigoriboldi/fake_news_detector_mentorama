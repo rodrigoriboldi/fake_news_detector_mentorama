{
 "cells": [
  {
   "cell_type": "markdown",
   "id": "cbb5102d-9ef6-47e1-b7b8-e5cd04a40ff9",
   "metadata": {},
   "source": [
    "Projeto final do curso da Mentorama\n",
    "\n",
    "Aluno: Rodrigo Martini Riboldi\n",
    "\n",
    "Projeto: Classificador de notícias falsas"
   ]
  },
  {
   "cell_type": "markdown",
   "id": "5a28b37f-a05b-444c-b630-ca50f52f295f",
   "metadata": {},
   "source": [
    "Esse notebook tem como objetivo a preparação dos dados para NLP, a execução de testes com diferentes algorítmos classificadores e o treinamento dos modelos após a obtenção dos melhores parâmetros."
   ]
  },
  {
   "cell_type": "code",
   "execution_count": 15,
   "id": "1b826ffb-38af-4c47-ba26-8a1ba20912cd",
   "metadata": {},
   "outputs": [],
   "source": [
    "import pandas as pd\n",
    "import numpy as np\n",
    "import matplotlib.pyplot as plt"
   ]
  },
  {
   "cell_type": "markdown",
   "id": "931360d5-42de-4f35-a2ac-b5508bee1b1d",
   "metadata": {},
   "source": [
    "# Importando os dados"
   ]
  },
  {
   "cell_type": "markdown",
   "id": "b1401ca9-8e14-4eac-8e67-d942fcd1439a",
   "metadata": {},
   "source": [
    "## Dados de treino"
   ]
  },
  {
   "cell_type": "code",
   "execution_count": 16,
   "id": "8168e71b-f0e3-4aa4-84ac-3860cbf0a508",
   "metadata": {},
   "outputs": [
    {
     "data": {
      "text/html": [
       "<div>\n",
       "<style scoped>\n",
       "    .dataframe tbody tr th:only-of-type {\n",
       "        vertical-align: middle;\n",
       "    }\n",
       "\n",
       "    .dataframe tbody tr th {\n",
       "        vertical-align: top;\n",
       "    }\n",
       "\n",
       "    .dataframe thead th {\n",
       "        text-align: right;\n",
       "    }\n",
       "</style>\n",
       "<table border=\"1\" class=\"dataframe\">\n",
       "  <thead>\n",
       "    <tr style=\"text-align: right;\">\n",
       "      <th></th>\n",
       "      <th>text</th>\n",
       "    </tr>\n",
       "  </thead>\n",
       "  <tbody>\n",
       "    <tr>\n",
       "      <th>0</th>\n",
       "      <td>Hollywood, Florida (CNN) Donald Trump's new de...</td>\n",
       "    </tr>\n",
       "    <tr>\n",
       "      <th>1</th>\n",
       "      <td>Bernie Sanders has civil rights credentials, b...</td>\n",
       "    </tr>\n",
       "    <tr>\n",
       "      <th>2</th>\n",
       "      <td>0 comments \\nIn case you didn’t already know t...</td>\n",
       "    </tr>\n",
       "    <tr>\n",
       "      <th>3</th>\n",
       "      <td>This is how it works in the Clinton Cabal...or...</td>\n",
       "    </tr>\n",
       "    <tr>\n",
       "      <th>4</th>\n",
       "      <td>Trump will also meet with retiring Indiana Sen...</td>\n",
       "    </tr>\n",
       "  </tbody>\n",
       "</table>\n",
       "</div>"
      ],
      "text/plain": [
       "                                                text\n",
       "0  Hollywood, Florida (CNN) Donald Trump's new de...\n",
       "1  Bernie Sanders has civil rights credentials, b...\n",
       "2  0 comments \\nIn case you didn’t already know t...\n",
       "3  This is how it works in the Clinton Cabal...or...\n",
       "4  Trump will also meet with retiring Indiana Sen..."
      ]
     },
     "execution_count": 16,
     "metadata": {},
     "output_type": "execute_result"
    }
   ],
   "source": [
    "X_train = pd.read_csv('dados/X_train_fake_news.csv').drop(columns = ['Unnamed: 0'])\n",
    "X_train.head()"
   ]
  },
  {
   "cell_type": "markdown",
   "id": "f3738b86-bbae-4d09-9dcd-aacede83e5b8",
   "metadata": {},
   "source": [
    "Como será construído um classificador de fake news, iremos importar noticias fakes com o label 1 e noticias reais com o label 0"
   ]
  },
  {
   "cell_type": "code",
   "execution_count": 17,
   "id": "efb9b707-badf-441d-9504-da9387630d7e",
   "metadata": {},
   "outputs": [
    {
     "data": {
      "text/html": [
       "<div>\n",
       "<style scoped>\n",
       "    .dataframe tbody tr th:only-of-type {\n",
       "        vertical-align: middle;\n",
       "    }\n",
       "\n",
       "    .dataframe tbody tr th {\n",
       "        vertical-align: top;\n",
       "    }\n",
       "\n",
       "    .dataframe thead th {\n",
       "        text-align: right;\n",
       "    }\n",
       "</style>\n",
       "<table border=\"1\" class=\"dataframe\">\n",
       "  <thead>\n",
       "    <tr style=\"text-align: right;\">\n",
       "      <th></th>\n",
       "      <th>label</th>\n",
       "    </tr>\n",
       "  </thead>\n",
       "  <tbody>\n",
       "    <tr>\n",
       "      <th>0</th>\n",
       "      <td>0</td>\n",
       "    </tr>\n",
       "    <tr>\n",
       "      <th>1</th>\n",
       "      <td>0</td>\n",
       "    </tr>\n",
       "    <tr>\n",
       "      <th>2</th>\n",
       "      <td>1</td>\n",
       "    </tr>\n",
       "    <tr>\n",
       "      <th>3</th>\n",
       "      <td>1</td>\n",
       "    </tr>\n",
       "    <tr>\n",
       "      <th>4</th>\n",
       "      <td>0</td>\n",
       "    </tr>\n",
       "  </tbody>\n",
       "</table>\n",
       "</div>"
      ],
      "text/plain": [
       "   label\n",
       "0      0\n",
       "1      0\n",
       "2      1\n",
       "3      1\n",
       "4      0"
      ]
     },
     "execution_count": 17,
     "metadata": {},
     "output_type": "execute_result"
    }
   ],
   "source": [
    "y_train = pd.read_csv('dados/y_train_fake_news.csv').drop(columns = ['Unnamed: 0'])\n",
    "y_train.label = y_train.label.map(dict({'REAL':0,'FAKE':1}))\n",
    "y_train.head()"
   ]
  },
  {
   "cell_type": "markdown",
   "id": "26c0fb63-975a-4666-a145-9298d4070ad6",
   "metadata": {},
   "source": [
    "## Dados de teste"
   ]
  },
  {
   "cell_type": "code",
   "execution_count": 18,
   "id": "a5ebbbf8-601b-42c4-a4af-741e92c73a1d",
   "metadata": {},
   "outputs": [
    {
     "data": {
      "text/html": [
       "<div>\n",
       "<style scoped>\n",
       "    .dataframe tbody tr th:only-of-type {\n",
       "        vertical-align: middle;\n",
       "    }\n",
       "\n",
       "    .dataframe tbody tr th {\n",
       "        vertical-align: top;\n",
       "    }\n",
       "\n",
       "    .dataframe thead th {\n",
       "        text-align: right;\n",
       "    }\n",
       "</style>\n",
       "<table border=\"1\" class=\"dataframe\">\n",
       "  <thead>\n",
       "    <tr style=\"text-align: right;\">\n",
       "      <th></th>\n",
       "      <th>text</th>\n",
       "    </tr>\n",
       "  </thead>\n",
       "  <tbody>\n",
       "    <tr>\n",
       "      <th>0</th>\n",
       "      <td>U.S. Secretary of State John F. Kerry said Mon...</td>\n",
       "    </tr>\n",
       "    <tr>\n",
       "      <th>1</th>\n",
       "      <td>Shocking! Michele Obama &amp; Hillary Caught Glamo...</td>\n",
       "    </tr>\n",
       "    <tr>\n",
       "      <th>2</th>\n",
       "      <td>0 \\nHillary Clinton has barely just lost the p...</td>\n",
       "    </tr>\n",
       "    <tr>\n",
       "      <th>3</th>\n",
       "      <td>With little fanfare this fall, the New York de...</td>\n",
       "    </tr>\n",
       "    <tr>\n",
       "      <th>4</th>\n",
       "      <td>Mitch McConnell has an unusual admonition for ...</td>\n",
       "    </tr>\n",
       "  </tbody>\n",
       "</table>\n",
       "</div>"
      ],
      "text/plain": [
       "                                                text\n",
       "0  U.S. Secretary of State John F. Kerry said Mon...\n",
       "1  Shocking! Michele Obama & Hillary Caught Glamo...\n",
       "2  0 \\nHillary Clinton has barely just lost the p...\n",
       "3  With little fanfare this fall, the New York de...\n",
       "4  Mitch McConnell has an unusual admonition for ..."
      ]
     },
     "execution_count": 18,
     "metadata": {},
     "output_type": "execute_result"
    }
   ],
   "source": [
    "X_test = pd.read_csv('dados/X_test_fake_news.csv').drop(columns = ['Unnamed: 0'])\n",
    "X_test.head()"
   ]
  },
  {
   "cell_type": "code",
   "execution_count": 19,
   "id": "520fd75c-e484-4bef-81ed-d0691c994408",
   "metadata": {},
   "outputs": [
    {
     "data": {
      "text/html": [
       "<div>\n",
       "<style scoped>\n",
       "    .dataframe tbody tr th:only-of-type {\n",
       "        vertical-align: middle;\n",
       "    }\n",
       "\n",
       "    .dataframe tbody tr th {\n",
       "        vertical-align: top;\n",
       "    }\n",
       "\n",
       "    .dataframe thead th {\n",
       "        text-align: right;\n",
       "    }\n",
       "</style>\n",
       "<table border=\"1\" class=\"dataframe\">\n",
       "  <thead>\n",
       "    <tr style=\"text-align: right;\">\n",
       "      <th></th>\n",
       "      <th>label</th>\n",
       "    </tr>\n",
       "  </thead>\n",
       "  <tbody>\n",
       "    <tr>\n",
       "      <th>0</th>\n",
       "      <td>0</td>\n",
       "    </tr>\n",
       "    <tr>\n",
       "      <th>1</th>\n",
       "      <td>1</td>\n",
       "    </tr>\n",
       "    <tr>\n",
       "      <th>2</th>\n",
       "      <td>1</td>\n",
       "    </tr>\n",
       "    <tr>\n",
       "      <th>3</th>\n",
       "      <td>0</td>\n",
       "    </tr>\n",
       "    <tr>\n",
       "      <th>4</th>\n",
       "      <td>0</td>\n",
       "    </tr>\n",
       "  </tbody>\n",
       "</table>\n",
       "</div>"
      ],
      "text/plain": [
       "   label\n",
       "0      0\n",
       "1      1\n",
       "2      1\n",
       "3      0\n",
       "4      0"
      ]
     },
     "execution_count": 19,
     "metadata": {},
     "output_type": "execute_result"
    }
   ],
   "source": [
    "y_test = pd.read_csv('dados/y_test_fake_news.csv').drop(columns = ['Unnamed: 0'])\n",
    "y_test.label = y_test.label.map(dict({'REAL':0,'FAKE':1}))\n",
    "y_test.head()"
   ]
  },
  {
   "cell_type": "markdown",
   "id": "349c129e-2b9c-4cb7-a296-393864c79a03",
   "metadata": {},
   "source": [
    "# Preparando dados para NLP"
   ]
  },
  {
   "cell_type": "markdown",
   "id": "51a8981f-58ab-4cd1-9bc4-5296f26fd955",
   "metadata": {},
   "source": [
    "## Criando bag of words"
   ]
  },
  {
   "cell_type": "code",
   "execution_count": 20,
   "id": "eb1abe15-3d9e-47cd-b458-3f0c383e8b7f",
   "metadata": {},
   "outputs": [],
   "source": [
    "from sklearn.feature_extraction.text import CountVectorizer\n",
    "\n",
    "cv = CountVectorizer(stop_words='english')"
   ]
  },
  {
   "cell_type": "markdown",
   "id": "1aa1e0a0-9b1d-4ee5-a13f-d4ab85b2ec24",
   "metadata": {},
   "source": [
    "## Treinando bag of words"
   ]
  },
  {
   "cell_type": "code",
   "execution_count": 21,
   "id": "09c11125-be1e-4175-b4a9-6802bb4090c6",
   "metadata": {},
   "outputs": [],
   "source": [
    "X_train_vectorized = cv.fit_transform(X_train.text.values)"
   ]
  },
  {
   "cell_type": "markdown",
   "id": "07321153-4c00-456a-8081-9be16fdb6eaf",
   "metadata": {},
   "source": [
    "## Salvando modelo de bag of words"
   ]
  },
  {
   "cell_type": "code",
   "execution_count": 22,
   "id": "9850b6e7-1ee1-4aee-afa4-d63bfd15a0ab",
   "metadata": {},
   "outputs": [],
   "source": [
    "import pickle"
   ]
  },
  {
   "cell_type": "code",
   "execution_count": 23,
   "id": "6ec763ff-b1be-46f8-82c2-2817f0a7de70",
   "metadata": {},
   "outputs": [],
   "source": [
    "filename = 'modelos/bag_of_words.sav'\n",
    "pickle.dump(cv, open(filename, 'wb'))"
   ]
  },
  {
   "cell_type": "markdown",
   "id": "63c3bafc-4a59-41d5-8ed4-4ace7b7ed186",
   "metadata": {},
   "source": [
    "# Definindo nosso objetivo"
   ]
  },
  {
   "cell_type": "markdown",
   "id": "bf81ef5c-9176-4c3c-97fd-a3f42f0c2010",
   "metadata": {},
   "source": [
    "O objetivo deste projeto é construir alguns classificadores que consigam classificar a maior parte das notícias corretamente e que mantenham uma baixa taxa de falsos positivos e faltos negativos"
   ]
  },
  {
   "cell_type": "markdown",
   "id": "d886d5dc-fd5c-4f1e-ab26-9a5f84230c1b",
   "metadata": {},
   "source": [
    "Segundo pesquisas realizadas para o desenvolvimento deste projeto, apenas 38% dos brasileiros sabem reconhecer notícias falsas: https://canaltech.com.br/seguranca/brasileiros-nao-sabem-reconhecer-fake-news-diz-pesquisa-160415/"
   ]
  },
  {
   "cell_type": "markdown",
   "id": "47b132aa-e702-4053-bade-49edd0051ad1",
   "metadata": {},
   "source": [
    "Esse problema não é muito diferente quando falamos de americanos, como visto em https://edition.cnn.com/2021/05/31/health/fake-news-study/index.html, https://www.sciencealert.com/most-americans-are-overestimating-their-ability-to-spot-fake-news-survey-finds e https://www.weforum.org/agenda/2022/04/can-you-spot-a-lie-fake-news/"
   ]
  },
  {
   "cell_type": "markdown",
   "id": "ea6afc78-4122-4975-a1fd-400aa61024de",
   "metadata": {},
   "source": [
    "Na última matéria podemos ver o trecho \"[...] participants in our experiments provided the correct evaluation of veracity only in 62% of the news stories they saw [...]\" que já pode nos dar um objetivo inicial de criar um classificador com acurácia superior a 62%"
   ]
  },
  {
   "cell_type": "markdown",
   "id": "452ff967-f9d7-43c5-935c-ba22896bd894",
   "metadata": {},
   "source": [
    "# Testando melhores classificadores"
   ]
  },
  {
   "cell_type": "markdown",
   "id": "9c816364-0542-49ac-931d-4c81bb3c8412",
   "metadata": {},
   "source": [
    "## Utilizando GridSearch para obter melhores parâmetros de diferentes classificadores"
   ]
  },
  {
   "cell_type": "markdown",
   "id": "9c0b3726-c912-40cd-a58d-d734bca5064a",
   "metadata": {},
   "source": [
    "Para tentar obter boas métricas sem um alto gasto computacional e de forma simples e prática será utilizado Grid Search.\n",
    "\n",
    "Após a obtenção dos melhores parâmetros, os classificadores serão retreinados."
   ]
  },
  {
   "cell_type": "markdown",
   "id": "036e6fe6-1e01-44be-8d5c-c382604482b3",
   "metadata": {},
   "source": [
    "Para este projeto foram escolhidos 4 classificadores pelo seu bom desempenho com NLP, facilidade de manipulação e simplicidade de funcionamento.\n",
    "\n",
    "Os classificadores são:\n",
    "- Random Forest\n",
    "- XGBoost\n",
    "- SVM\n",
    "- Naive Bayes"
   ]
  },
  {
   "cell_type": "markdown",
   "id": "7ec7efcb-9e2a-42be-8682-e48c68b5c203",
   "metadata": {},
   "source": [
    "### Random Forest"
   ]
  },
  {
   "cell_type": "code",
   "execution_count": 24,
   "id": "def9152d-8a95-4512-a3c7-ddb72bdc3ec8",
   "metadata": {},
   "outputs": [],
   "source": [
    "from sklearn.model_selection import GridSearchCV\n",
    "from sklearn.ensemble import RandomForestClassifier\n",
    "\n",
    "#definindo o estimador base\n",
    "estimador_base = RandomForestClassifier()\n",
    "\n",
    "#definindo o dicionario de parâmetros do modelo\n",
    "params_RF = {\"n_estimators\":[100,500,1000],\n",
    "             \"criterion\":['entropy'],\n",
    "             \"warm_start\":[True, False],\n",
    "             \"n_jobs\":[-1],\n",
    "             \"random_state\":[0]}"
   ]
  },
  {
   "cell_type": "code",
   "execution_count": 25,
   "id": "5b46969c-fa86-4bc4-b538-0920fcffedaf",
   "metadata": {},
   "outputs": [
    {
     "data": {
      "text/plain": [
       "GridSearchCV(cv=5, estimator=RandomForestClassifier(),\n",
       "             param_grid={'criterion': ['entropy'],\n",
       "                         'n_estimators': [100, 500, 1000], 'n_jobs': [-1],\n",
       "                         'random_state': [0], 'warm_start': [True, False]},\n",
       "             refit='roc_auc', scoring=['roc_auc', 'accuracy'])"
      ]
     },
     "execution_count": 25,
     "metadata": {},
     "output_type": "execute_result"
    }
   ],
   "source": [
    "grid_rf = GridSearchCV(estimator = estimador_base, \n",
    "                    param_grid = params_RF, \n",
    "                    scoring = ['roc_auc','accuracy'],\n",
    "                    refit = 'roc_auc',\n",
    "                    cv = 5)\n",
    "\n",
    "grid_rf"
   ]
  },
  {
   "cell_type": "code",
   "execution_count": 26,
   "id": "158d2845-aabb-4143-b927-b469e6c34d6e",
   "metadata": {},
   "outputs": [
    {
     "data": {
      "text/plain": [
       "GridSearchCV(cv=5, estimator=RandomForestClassifier(),\n",
       "             param_grid={'criterion': ['entropy'],\n",
       "                         'n_estimators': [100, 500, 1000], 'n_jobs': [-1],\n",
       "                         'random_state': [0], 'warm_start': [True, False]},\n",
       "             refit='roc_auc', scoring=['roc_auc', 'accuracy'])"
      ]
     },
     "execution_count": 26,
     "metadata": {},
     "output_type": "execute_result"
    }
   ],
   "source": [
    "#treinando os modelos no grid\n",
    "grid_rf.fit(X_train_vectorized, y_train.values.ravel())"
   ]
  },
  {
   "cell_type": "code",
   "execution_count": 27,
   "id": "ddd73157-519c-4972-9e2a-82a476f1ed23",
   "metadata": {},
   "outputs": [
    {
     "data": {
      "text/plain": [
       "{'criterion': 'entropy',\n",
       " 'n_estimators': 1000,\n",
       " 'n_jobs': -1,\n",
       " 'random_state': 0,\n",
       " 'warm_start': True}"
      ]
     },
     "execution_count": 27,
     "metadata": {},
     "output_type": "execute_result"
    }
   ],
   "source": [
    "grid_rf.best_params_"
   ]
  },
  {
   "cell_type": "code",
   "execution_count": 28,
   "id": "70399e84-5356-4647-b082-27511d4dd68e",
   "metadata": {},
   "outputs": [
    {
     "data": {
      "text/plain": [
       "0.9644025273776273"
      ]
     },
     "execution_count": 28,
     "metadata": {},
     "output_type": "execute_result"
    }
   ],
   "source": [
    "grid_rf.best_score_"
   ]
  },
  {
   "cell_type": "code",
   "execution_count": 29,
   "id": "36ac2ad3-b787-40e8-abae-da28de5eab1a",
   "metadata": {},
   "outputs": [
    {
     "data": {
      "text/plain": [
       "RandomForestClassifier(criterion='entropy', n_estimators=1000, n_jobs=-1,\n",
       "                       random_state=0, warm_start=True)"
      ]
     },
     "execution_count": 29,
     "metadata": {},
     "output_type": "execute_result"
    }
   ],
   "source": [
    "grid_rf.best_estimator_"
   ]
  },
  {
   "cell_type": "code",
   "execution_count": 30,
   "id": "fd9a296a-2661-410b-9f1e-c908358e9be3",
   "metadata": {},
   "outputs": [
    {
     "data": {
      "text/plain": [
       "3.8606815338134766"
      ]
     },
     "execution_count": 30,
     "metadata": {},
     "output_type": "execute_result"
    }
   ],
   "source": [
    "grid_rf.refit_time_"
   ]
  },
  {
   "cell_type": "code",
   "execution_count": 31,
   "id": "b446d8d3-f500-4264-b1a1-82aa8868d889",
   "metadata": {},
   "outputs": [],
   "source": [
    "filename = 'modelos/grid_rf.sav'\n",
    "pickle.dump(grid_rf, open(filename, 'wb'))"
   ]
  },
  {
   "cell_type": "markdown",
   "id": "d109f995-f0cd-4d86-aeaf-fb863fee9443",
   "metadata": {},
   "source": [
    "### XGBoost"
   ]
  },
  {
   "cell_type": "code",
   "execution_count": 32,
   "id": "127d4e73-a0ea-4c66-8e26-a062eb5758ee",
   "metadata": {},
   "outputs": [],
   "source": [
    "import xgboost"
   ]
  },
  {
   "cell_type": "code",
   "execution_count": 33,
   "id": "60588a2b-2e5c-451f-9406-aa8dd6fe59e9",
   "metadata": {},
   "outputs": [],
   "source": [
    "#definindo o estimador base\n",
    "estimador_base = xgboost.XGBClassifier()\n",
    "\n",
    "#definindo o dicionario de parâmetros do modelo\n",
    "params_xgb = {\"n_estimators\":[10,50,100],\n",
    "              \"n_jobs\":[-1],\n",
    "              \"random_state\":[0]}"
   ]
  },
  {
   "cell_type": "code",
   "execution_count": 34,
   "id": "e9e1a31e-fa36-4eb8-a965-306b0dfa7549",
   "metadata": {},
   "outputs": [
    {
     "data": {
      "text/plain": [
       "GridSearchCV(cv=5,\n",
       "             estimator=XGBClassifier(base_score=None, booster=None,\n",
       "                                     callbacks=None, colsample_bylevel=None,\n",
       "                                     colsample_bynode=None,\n",
       "                                     colsample_bytree=None,\n",
       "                                     early_stopping_rounds=None,\n",
       "                                     enable_categorical=False, eval_metric=None,\n",
       "                                     feature_types=None, gamma=None,\n",
       "                                     gpu_id=None, grow_policy=None,\n",
       "                                     importance_type=None,\n",
       "                                     interaction_constraints=None,\n",
       "                                     learning_rate=None,...\n",
       "                                     max_cat_threshold=None,\n",
       "                                     max_cat_to_onehot=None,\n",
       "                                     max_delta_step=None, max_depth=None,\n",
       "                                     max_leaves=None, min_child_weight=None,\n",
       "                                     missing=nan, monotone_constraints=None,\n",
       "                                     n_estimators=100, n_jobs=None,\n",
       "                                     num_parallel_tree=None, predictor=None,\n",
       "                                     random_state=None, ...),\n",
       "             param_grid={'n_estimators': [10, 50, 100], 'n_jobs': [-1],\n",
       "                         'random_state': [0]},\n",
       "             refit='roc_auc', scoring=['roc_auc', 'accuracy'])"
      ]
     },
     "execution_count": 34,
     "metadata": {},
     "output_type": "execute_result"
    }
   ],
   "source": [
    "grid_xgb = GridSearchCV(estimator = estimador_base, \n",
    "                    param_grid = params_xgb, \n",
    "                    scoring = ['roc_auc','accuracy'],\n",
    "                    refit = 'roc_auc',\n",
    "                    cv = 5)\n",
    "\n",
    "grid_xgb"
   ]
  },
  {
   "cell_type": "code",
   "execution_count": 35,
   "id": "7ad0c0e8-2df8-45f5-8477-fa71b2bd1f2d",
   "metadata": {},
   "outputs": [
    {
     "data": {
      "text/plain": [
       "GridSearchCV(cv=5,\n",
       "             estimator=XGBClassifier(base_score=None, booster=None,\n",
       "                                     callbacks=None, colsample_bylevel=None,\n",
       "                                     colsample_bynode=None,\n",
       "                                     colsample_bytree=None,\n",
       "                                     early_stopping_rounds=None,\n",
       "                                     enable_categorical=False, eval_metric=None,\n",
       "                                     feature_types=None, gamma=None,\n",
       "                                     gpu_id=None, grow_policy=None,\n",
       "                                     importance_type=None,\n",
       "                                     interaction_constraints=None,\n",
       "                                     learning_rate=None,...\n",
       "                                     max_cat_threshold=None,\n",
       "                                     max_cat_to_onehot=None,\n",
       "                                     max_delta_step=None, max_depth=None,\n",
       "                                     max_leaves=None, min_child_weight=None,\n",
       "                                     missing=nan, monotone_constraints=None,\n",
       "                                     n_estimators=100, n_jobs=None,\n",
       "                                     num_parallel_tree=None, predictor=None,\n",
       "                                     random_state=None, ...),\n",
       "             param_grid={'n_estimators': [10, 50, 100], 'n_jobs': [-1],\n",
       "                         'random_state': [0]},\n",
       "             refit='roc_auc', scoring=['roc_auc', 'accuracy'])"
      ]
     },
     "execution_count": 35,
     "metadata": {},
     "output_type": "execute_result"
    }
   ],
   "source": [
    "#treinando os modelos no grid\n",
    "grid_xgb.fit(X_train_vectorized, y_train.values.ravel())"
   ]
  },
  {
   "cell_type": "code",
   "execution_count": 36,
   "id": "2e7d741f-f1a1-464e-95e5-8053d6eda087",
   "metadata": {},
   "outputs": [
    {
     "data": {
      "text/plain": [
       "{'n_estimators': 100, 'n_jobs': -1, 'random_state': 0}"
      ]
     },
     "execution_count": 36,
     "metadata": {},
     "output_type": "execute_result"
    }
   ],
   "source": [
    "grid_xgb.best_params_"
   ]
  },
  {
   "cell_type": "code",
   "execution_count": 37,
   "id": "ce28f29c-ada5-485f-99ca-a6f8c31bff51",
   "metadata": {},
   "outputs": [
    {
     "data": {
      "text/plain": [
       "0.9716430066827471"
      ]
     },
     "execution_count": 37,
     "metadata": {},
     "output_type": "execute_result"
    }
   ],
   "source": [
    "grid_xgb.best_score_"
   ]
  },
  {
   "cell_type": "code",
   "execution_count": 38,
   "id": "931acddd-9ec7-4a9d-93c6-57eb24970704",
   "metadata": {},
   "outputs": [
    {
     "data": {
      "text/plain": [
       "XGBClassifier(base_score=0.5, booster='gbtree', callbacks=None,\n",
       "              colsample_bylevel=1, colsample_bynode=1, colsample_bytree=1,\n",
       "              early_stopping_rounds=None, enable_categorical=False,\n",
       "              eval_metric=None, feature_types=None, gamma=0, gpu_id=-1,\n",
       "              grow_policy='depthwise', importance_type=None,\n",
       "              interaction_constraints='', learning_rate=0.300000012,\n",
       "              max_bin=256, max_cat_threshold=64, max_cat_to_onehot=4,\n",
       "              max_delta_step=0, max_depth=6, max_leaves=0, min_child_weight=1,\n",
       "              missing=nan, monotone_constraints='()', n_estimators=100,\n",
       "              n_jobs=-1, num_parallel_tree=1, predictor='auto', random_state=0, ...)"
      ]
     },
     "execution_count": 38,
     "metadata": {},
     "output_type": "execute_result"
    }
   ],
   "source": [
    "grid_xgb.best_estimator_"
   ]
  },
  {
   "cell_type": "code",
   "execution_count": 39,
   "id": "631f698a-2fc0-4c6d-9946-8ba29d4b5322",
   "metadata": {},
   "outputs": [
    {
     "data": {
      "text/plain": [
       "1.1437013149261475"
      ]
     },
     "execution_count": 39,
     "metadata": {},
     "output_type": "execute_result"
    }
   ],
   "source": [
    "grid_xgb.refit_time_"
   ]
  },
  {
   "cell_type": "code",
   "execution_count": 40,
   "id": "d861999b-2c77-4daa-8ce3-7af6dd12e78e",
   "metadata": {},
   "outputs": [],
   "source": [
    "filename = 'modelos/grid_xgb.sav'\n",
    "pickle.dump(grid_xgb, open(filename, 'wb'))"
   ]
  },
  {
   "cell_type": "markdown",
   "id": "1c567de6-8412-467d-9f28-be6ad0581fb9",
   "metadata": {},
   "source": [
    "### SVM"
   ]
  },
  {
   "cell_type": "code",
   "execution_count": 41,
   "id": "4f41bc2b-aa98-4a56-8bb6-dd06ff3a91bb",
   "metadata": {},
   "outputs": [],
   "source": [
    "from sklearn.svm import SVC\n",
    "\n",
    "#definindo o estimador base\n",
    "estimador_base = SVC()\n",
    "\n",
    "#definindo o dicionario de parâmetros do modelo\n",
    "params_SVC = {\"kernel\":['linear','sigmoid','poly','rfb'],\n",
    "             \"random_state\":[0]}"
   ]
  },
  {
   "cell_type": "code",
   "execution_count": 42,
   "id": "f6c9f995-1674-4298-97a1-8c86b0ccf64c",
   "metadata": {},
   "outputs": [
    {
     "data": {
      "text/plain": [
       "GridSearchCV(cv=5, estimator=SVC(),\n",
       "             param_grid={'kernel': ['linear', 'sigmoid', 'poly', 'rfb'],\n",
       "                         'random_state': [0]},\n",
       "             refit='roc_auc', scoring=['roc_auc', 'accuracy'])"
      ]
     },
     "execution_count": 42,
     "metadata": {},
     "output_type": "execute_result"
    }
   ],
   "source": [
    "grid_SVC = GridSearchCV(estimator = estimador_base, \n",
    "                    param_grid = params_SVC, \n",
    "                    scoring = ['roc_auc','accuracy'],\n",
    "                    refit = 'roc_auc',\n",
    "                    cv = 5)\n",
    "\n",
    "grid_SVC"
   ]
  },
  {
   "cell_type": "code",
   "execution_count": 43,
   "id": "070bfc66-b79d-4ae9-883a-0dc66505189d",
   "metadata": {},
   "outputs": [
    {
     "name": "stderr",
     "output_type": "stream",
     "text": [
      "C:\\Users\\rodri\\anaconda3\\lib\\site-packages\\sklearn\\model_selection\\_validation.py:372: FitFailedWarning: \n",
      "5 fits failed out of a total of 20.\n",
      "The score on these train-test partitions for these parameters will be set to nan.\n",
      "If these failures are not expected, you can try to debug them by setting error_score='raise'.\n",
      "\n",
      "Below are more details about the failures:\n",
      "--------------------------------------------------------------------------------\n",
      "5 fits failed with the following error:\n",
      "Traceback (most recent call last):\n",
      "  File \"C:\\Users\\rodri\\anaconda3\\lib\\site-packages\\sklearn\\model_selection\\_validation.py\", line 680, in _fit_and_score\n",
      "    estimator.fit(X_train, y_train, **fit_params)\n",
      "  File \"C:\\Users\\rodri\\anaconda3\\lib\\site-packages\\sklearn\\svm\\_base.py\", line 255, in fit\n",
      "    fit(X, y, sample_weight, solver_type, kernel, random_seed=seed)\n",
      "  File \"C:\\Users\\rodri\\anaconda3\\lib\\site-packages\\sklearn\\svm\\_base.py\", line 342, in _sparse_fit\n",
      "    kernel_type = self._sparse_kernels.index(kernel)\n",
      "ValueError: 'rfb' is not in list\n",
      "\n",
      "  warnings.warn(some_fits_failed_message, FitFailedWarning)\n",
      "C:\\Users\\rodri\\anaconda3\\lib\\site-packages\\sklearn\\model_selection\\_search.py:969: UserWarning: One or more of the test scores are non-finite: [0.9254248  0.88768183 0.8469402         nan]\n",
      "  warnings.warn(\n",
      "C:\\Users\\rodri\\anaconda3\\lib\\site-packages\\sklearn\\model_selection\\_search.py:969: UserWarning: One or more of the test scores are non-finite: [0.86507375 0.82141237 0.65416937        nan]\n",
      "  warnings.warn(\n"
     ]
    },
    {
     "data": {
      "text/plain": [
       "GridSearchCV(cv=5, estimator=SVC(),\n",
       "             param_grid={'kernel': ['linear', 'sigmoid', 'poly', 'rfb'],\n",
       "                         'random_state': [0]},\n",
       "             refit='roc_auc', scoring=['roc_auc', 'accuracy'])"
      ]
     },
     "execution_count": 43,
     "metadata": {},
     "output_type": "execute_result"
    }
   ],
   "source": [
    "#treinando os modelos no grid\n",
    "grid_SVC.fit(X_train_vectorized, y_train.values.ravel())"
   ]
  },
  {
   "cell_type": "markdown",
   "id": "f73afb52-51f6-45e1-9aa3-899725a57911",
   "metadata": {},
   "source": [
    "Apenas um warning no treinamento que não deve ocorrer no retreinamento com os melhores parâmetros"
   ]
  },
  {
   "cell_type": "code",
   "execution_count": 44,
   "id": "00979c53-8f66-4220-a9cd-40069edc1707",
   "metadata": {},
   "outputs": [
    {
     "data": {
      "text/plain": [
       "{'kernel': 'linear', 'random_state': 0}"
      ]
     },
     "execution_count": 44,
     "metadata": {},
     "output_type": "execute_result"
    }
   ],
   "source": [
    "grid_SVC.best_params_"
   ]
  },
  {
   "cell_type": "code",
   "execution_count": 45,
   "id": "cf004e87-10dd-4981-aa1f-a276aaa403a2",
   "metadata": {},
   "outputs": [
    {
     "data": {
      "text/plain": [
       "0.9254248041104288"
      ]
     },
     "execution_count": 45,
     "metadata": {},
     "output_type": "execute_result"
    }
   ],
   "source": [
    "grid_SVC.best_score_"
   ]
  },
  {
   "cell_type": "code",
   "execution_count": 46,
   "id": "2cb04a36-556d-4c35-870b-5a0bc1dcc852",
   "metadata": {},
   "outputs": [
    {
     "data": {
      "text/plain": [
       "SVC(kernel='linear', random_state=0)"
      ]
     },
     "execution_count": 46,
     "metadata": {},
     "output_type": "execute_result"
    }
   ],
   "source": [
    "grid_SVC.best_estimator_"
   ]
  },
  {
   "cell_type": "code",
   "execution_count": 47,
   "id": "7882ebf9-1baa-4e65-8a19-a413c23ba997",
   "metadata": {},
   "outputs": [
    {
     "data": {
      "text/plain": [
       "6.100074529647827"
      ]
     },
     "execution_count": 47,
     "metadata": {},
     "output_type": "execute_result"
    }
   ],
   "source": [
    "grid_SVC.refit_time_"
   ]
  },
  {
   "cell_type": "code",
   "execution_count": 48,
   "id": "2d5acae3-0546-407b-bd6d-adf7987e230b",
   "metadata": {},
   "outputs": [],
   "source": [
    "filename = 'modelos/grid_SVC.sav'\n",
    "pickle.dump(grid_SVC, open(filename, 'wb'))"
   ]
  },
  {
   "cell_type": "markdown",
   "id": "1b625bb8-e736-4c81-8b72-1735e69ca29e",
   "metadata": {},
   "source": [
    "### Naive Bayes"
   ]
  },
  {
   "cell_type": "code",
   "execution_count": 49,
   "id": "e23b60ec-24ec-4f92-a090-d1e08d5f5272",
   "metadata": {},
   "outputs": [],
   "source": [
    "from sklearn.naive_bayes import MultinomialNB\n",
    "\n",
    "#definindo o estimador base\n",
    "estimador_base = MultinomialNB()\n",
    "\n",
    "#definindo o dicionario de parâmetros do modelo\n",
    "params_NB = {\"alpha\":[0.5, 1, 5, 10]}"
   ]
  },
  {
   "cell_type": "code",
   "execution_count": 50,
   "id": "3e7f0510-08e8-43e0-98dd-b4718e23027c",
   "metadata": {},
   "outputs": [
    {
     "data": {
      "text/plain": [
       "GridSearchCV(cv=5, estimator=MultinomialNB(),\n",
       "             param_grid={'alpha': [0.5, 1, 5, 10]}, refit='roc_auc',\n",
       "             scoring=['roc_auc', 'accuracy'])"
      ]
     },
     "execution_count": 50,
     "metadata": {},
     "output_type": "execute_result"
    }
   ],
   "source": [
    "grid_NB = GridSearchCV(estimator = estimador_base, \n",
    "                    param_grid = params_NB, \n",
    "                    scoring = ['roc_auc','accuracy'],\n",
    "                    refit = 'roc_auc',\n",
    "                    cv = 5)\n",
    "\n",
    "grid_NB"
   ]
  },
  {
   "cell_type": "code",
   "execution_count": 51,
   "id": "60ffb177-0009-46c1-bbd9-b59027e24944",
   "metadata": {},
   "outputs": [
    {
     "data": {
      "text/plain": [
       "GridSearchCV(cv=5, estimator=MultinomialNB(),\n",
       "             param_grid={'alpha': [0.5, 1, 5, 10]}, refit='roc_auc',\n",
       "             scoring=['roc_auc', 'accuracy'])"
      ]
     },
     "execution_count": 51,
     "metadata": {},
     "output_type": "execute_result"
    }
   ],
   "source": [
    "#treinando os modelos no grid\n",
    "grid_NB.fit(X_train_vectorized, y_train.values.ravel())"
   ]
  },
  {
   "cell_type": "code",
   "execution_count": 52,
   "id": "b173dcdc-2d90-422c-97b2-85004c2a361d",
   "metadata": {},
   "outputs": [
    {
     "data": {
      "text/plain": [
       "{'alpha': 0.5}"
      ]
     },
     "execution_count": 52,
     "metadata": {},
     "output_type": "execute_result"
    }
   ],
   "source": [
    "grid_NB.best_params_"
   ]
  },
  {
   "cell_type": "code",
   "execution_count": 53,
   "id": "aebc348e-b407-49b6-9946-09c761125192",
   "metadata": {},
   "outputs": [
    {
     "data": {
      "text/plain": [
       "0.9415199745725001"
      ]
     },
     "execution_count": 53,
     "metadata": {},
     "output_type": "execute_result"
    }
   ],
   "source": [
    "grid_NB.best_score_"
   ]
  },
  {
   "cell_type": "code",
   "execution_count": 54,
   "id": "a444ead1-9f16-41f6-9d42-26cf5ec9e8da",
   "metadata": {},
   "outputs": [
    {
     "data": {
      "text/plain": [
       "MultinomialNB(alpha=0.5)"
      ]
     },
     "execution_count": 54,
     "metadata": {},
     "output_type": "execute_result"
    }
   ],
   "source": [
    "grid_NB.best_estimator_"
   ]
  },
  {
   "cell_type": "code",
   "execution_count": 55,
   "id": "2b99a307-53fa-4a9d-b33c-5e0733f099b0",
   "metadata": {},
   "outputs": [
    {
     "data": {
      "text/plain": [
       "0.00550079345703125"
      ]
     },
     "execution_count": 55,
     "metadata": {},
     "output_type": "execute_result"
    }
   ],
   "source": [
    "grid_NB.refit_time_"
   ]
  },
  {
   "cell_type": "code",
   "execution_count": 56,
   "id": "bf9e75ca-0627-48bf-a102-6b53c74950a2",
   "metadata": {},
   "outputs": [],
   "source": [
    "filename = 'modelos/grid_NB.sav'\n",
    "pickle.dump(grid_NB, open(filename, 'wb'))"
   ]
  },
  {
   "cell_type": "markdown",
   "id": "89fe3fcb-e2f6-4a4c-96d1-4a82166c1808",
   "metadata": {},
   "source": [
    "============"
   ]
  },
  {
   "cell_type": "markdown",
   "id": "62c8b1bc-d363-42cf-87df-090573d0c227",
   "metadata": {},
   "source": [
    "Todos os modelos testados apresentaram um valor alto de acurácia. Precisamos verificar com os dados de teste e validação se não se trata de overfit."
   ]
  },
  {
   "cell_type": "markdown",
   "id": "d58ddb35-4682-48b6-9a6f-8dad288e7cdf",
   "metadata": {},
   "source": [
    "# Preparando dados de teste"
   ]
  },
  {
   "cell_type": "code",
   "execution_count": 57,
   "id": "c4eb3d49-3efe-4982-bd39-62d71d5514b2",
   "metadata": {},
   "outputs": [],
   "source": [
    "# Carregando o bag of words\n",
    "cv = pickle.load(open('modelos/bag_of_words.sav', 'rb'))"
   ]
  },
  {
   "cell_type": "code",
   "execution_count": 58,
   "id": "b8fca08d-74b9-47fb-98e1-519b86204939",
   "metadata": {},
   "outputs": [],
   "source": [
    "X_test_vectorized = cv.transform(X_test.text.values)"
   ]
  },
  {
   "cell_type": "markdown",
   "id": "dfb2a614-d453-4e4a-82ae-fab8c6683f68",
   "metadata": {
    "tags": []
   },
   "source": [
    "## Retreinando e testando classificadores com os melhores parâmetros encontrados"
   ]
  },
  {
   "cell_type": "markdown",
   "id": "0342580d-94e5-459f-a783-c66163b34cc9",
   "metadata": {},
   "source": [
    "Retreinando e verificando as métricas com os dados de teste"
   ]
  },
  {
   "cell_type": "markdown",
   "id": "8d35dcc4-89a5-401d-acb7-6a62873948a1",
   "metadata": {
    "tags": []
   },
   "source": [
    "### Random Forest"
   ]
  },
  {
   "cell_type": "code",
   "execution_count": 59,
   "id": "786d5d28-673b-4955-8ef8-d174f325cf91",
   "metadata": {},
   "outputs": [
    {
     "data": {
      "text/plain": [
       "RandomForestClassifier(criterion='entropy', n_estimators=1000, n_jobs=-1,\n",
       "                       random_state=0, warm_start=True)"
      ]
     },
     "execution_count": 59,
     "metadata": {},
     "output_type": "execute_result"
    }
   ],
   "source": [
    "rf_classifier = RandomForestClassifier(n_estimators = 1000,\n",
    "                                       criterion = 'entropy',\n",
    "                                       n_jobs = -1,\n",
    "                                       warm_start = True,\n",
    "                                       random_state = 0)\n",
    "\n",
    "rf_classifier.fit(X_train_vectorized,y_train.values.ravel())"
   ]
  },
  {
   "cell_type": "code",
   "execution_count": 60,
   "id": "fde7d5a8-c4a6-43de-a9db-6c6ebd7314a1",
   "metadata": {},
   "outputs": [],
   "source": [
    "filename = 'modelos/random_forrest.sav'\n",
    "pickle.dump(rf_classifier, open(filename, 'wb'))"
   ]
  },
  {
   "cell_type": "code",
   "execution_count": 61,
   "id": "c2e69e2b-4408-48dd-9711-915f577a2adb",
   "metadata": {},
   "outputs": [],
   "source": [
    "rf_predict = rf_classifier.predict(X_test_vectorized)"
   ]
  },
  {
   "cell_type": "code",
   "execution_count": 62,
   "id": "50298fa2-860f-4aa4-b71d-33a54b2f9edc",
   "metadata": {},
   "outputs": [],
   "source": [
    "from sklearn.metrics import accuracy_score\n",
    "from sklearn.metrics import recall_score # The recall is intuitively the ability of the classifier to find all the positive samples.\n",
    "from sklearn.metrics import precision_score  #The precision is intuitively the ability of the classifier not to label as positive a sample that is negative.\n",
    "from sklearn.metrics import confusion_matrix\n",
    "from sklearn.metrics import roc_auc_score"
   ]
  },
  {
   "cell_type": "code",
   "execution_count": 63,
   "id": "d4a777a6-9211-4824-9569-5c046929a018",
   "metadata": {},
   "outputs": [
    {
     "name": "stdout",
     "output_type": "stream",
     "text": [
      "Accuracy:   0.9053254437869822\n",
      "Precision:  0.916\n",
      "Recall:     0.89453125\n",
      "AUC score:  0.9054329556772908\n"
     ]
    }
   ],
   "source": [
    "print(\"Accuracy:  \", accuracy_score(y_test, rf_predict))\n",
    "print(\"Precision: \", precision_score(y_test, rf_predict))\n",
    "print(\"Recall:    \", recall_score(y_test, rf_predict))\n",
    "print(\"AUC score: \", roc_auc_score(y_test, rf_predict))"
   ]
  },
  {
   "cell_type": "code",
   "execution_count": 64,
   "id": "7fc5899c-d812-45d2-bd83-d4894cf3632f",
   "metadata": {},
   "outputs": [
    {
     "name": "stdout",
     "output_type": "stream",
     "text": [
      "Confusion Matrix:  \n"
     ]
    },
    {
     "data": {
      "text/plain": [
       "array([[460,  42],\n",
       "       [ 54, 458]], dtype=int64)"
      ]
     },
     "execution_count": 64,
     "metadata": {},
     "output_type": "execute_result"
    }
   ],
   "source": [
    "print(\"Confusion Matrix:  \")\n",
    "confusion_matrix(y_test, rf_predict)"
   ]
  },
  {
   "cell_type": "markdown",
   "id": "014d0f0c-cae3-47b3-be65-cc5c2f17ba99",
   "metadata": {},
   "source": [
    "O random forest apresentou valores excelentes, muito acima da meta estabelecida.  \n",
    "O modelo conseguiu classificar corretamente a maioria das notícias e manter uma baixa taxa falsos positivos e falsos negativos."
   ]
  },
  {
   "cell_type": "markdown",
   "id": "89c93b4f-cb57-49eb-9a38-1aec3aa5f5e0",
   "metadata": {},
   "source": [
    "### XGBoost"
   ]
  },
  {
   "cell_type": "code",
   "execution_count": 65,
   "id": "6d54b965-59ae-4fbe-98bc-5e7f3c2f7295",
   "metadata": {},
   "outputs": [
    {
     "data": {
      "text/plain": [
       "XGBClassifier(base_score=0.5, booster='gbtree', callbacks=None,\n",
       "              colsample_bylevel=1, colsample_bynode=1, colsample_bytree=1,\n",
       "              early_stopping_rounds=None, enable_categorical=False,\n",
       "              eval_metric=None, feature_types=None, gamma=0, gpu_id=-1,\n",
       "              grow_policy='depthwise', importance_type=None,\n",
       "              interaction_constraints='', learning_rate=0.300000012,\n",
       "              max_bin=256, max_cat_threshold=64, max_cat_to_onehot=4,\n",
       "              max_delta_step=0, max_depth=6, max_leaves=0, min_child_weight=1,\n",
       "              missing=nan, monotone_constraints='()', n_estimators=100,\n",
       "              n_jobs=-1, num_parallel_tree=1, predictor='auto', random_state=0, ...)"
      ]
     },
     "execution_count": 65,
     "metadata": {},
     "output_type": "execute_result"
    }
   ],
   "source": [
    "xgb_classifier = xgboost.XGBClassifier(n_estimators = 100,\n",
    "                                       n_jobs = -1,\n",
    "                                       random_state = 0)\n",
    "\n",
    "xgb_classifier.fit(X_train_vectorized,y_train.values.ravel())"
   ]
  },
  {
   "cell_type": "code",
   "execution_count": 66,
   "id": "d508232c-675d-4b7c-b0d0-8b94f8e5dfca",
   "metadata": {},
   "outputs": [],
   "source": [
    "filename = 'modelos/xgboost.sav'\n",
    "pickle.dump(xgb_classifier, open(filename, 'wb'))"
   ]
  },
  {
   "cell_type": "code",
   "execution_count": 67,
   "id": "8e0c75d7-f1c8-4146-a834-b1f25016e641",
   "metadata": {},
   "outputs": [],
   "source": [
    "xgb_predict = xgb_classifier.predict(X_test_vectorized)"
   ]
  },
  {
   "cell_type": "code",
   "execution_count": 68,
   "id": "73acaec6-e323-4a61-99b7-aade6ddc0766",
   "metadata": {},
   "outputs": [
    {
     "name": "stdout",
     "output_type": "stream",
     "text": [
      "Accuracy:   0.9250493096646942\n",
      "Precision:  0.9192307692307692\n",
      "Recall:     0.93359375\n",
      "AUC score:  0.9249642056772909\n"
     ]
    }
   ],
   "source": [
    "print(\"Accuracy:  \", accuracy_score(y_test, xgb_predict))\n",
    "print(\"Precision: \", precision_score(y_test, xgb_predict))\n",
    "print(\"Recall:    \", recall_score(y_test, xgb_predict))\n",
    "print(\"AUC score: \", roc_auc_score(y_test, xgb_predict))"
   ]
  },
  {
   "cell_type": "code",
   "execution_count": 69,
   "id": "f102e8a2-e519-491f-86c0-c9f12b5112d9",
   "metadata": {},
   "outputs": [
    {
     "name": "stdout",
     "output_type": "stream",
     "text": [
      "Confusion Matrix:  \n"
     ]
    },
    {
     "data": {
      "text/plain": [
       "array([[460,  42],\n",
       "       [ 34, 478]], dtype=int64)"
      ]
     },
     "execution_count": 69,
     "metadata": {},
     "output_type": "execute_result"
    }
   ],
   "source": [
    "print(\"Confusion Matrix:  \")\n",
    "confusion_matrix(y_test, xgb_predict)"
   ]
  },
  {
   "cell_type": "markdown",
   "id": "35116741-3f24-4a49-a400-ddfd6de5dfd4",
   "metadata": {},
   "source": [
    "O XGBoost também apresentou valores excelentes, muito acima da meta estabelecida.  \n",
    "O modelo conseguiu classificar corretamente a maioria das notícias e manter uma baixa taxa falsos positivos e falsos negativos."
   ]
  },
  {
   "cell_type": "markdown",
   "id": "f3663a00-34cd-44f3-9db4-42b8a54854d7",
   "metadata": {},
   "source": [
    "### SVM"
   ]
  },
  {
   "cell_type": "code",
   "execution_count": 70,
   "id": "143b1955-1e8e-47a7-b84c-5b98c9428ece",
   "metadata": {},
   "outputs": [
    {
     "data": {
      "text/plain": [
       "SVC(kernel='linear', probability=True)"
      ]
     },
     "execution_count": 70,
     "metadata": {},
     "output_type": "execute_result"
    }
   ],
   "source": [
    "svm_classifier = SVC(kernel = 'linear', probability=True)\n",
    "\n",
    "svm_classifier.fit(X_train_vectorized,y_train.values.ravel())"
   ]
  },
  {
   "cell_type": "code",
   "execution_count": 71,
   "id": "101b7678-260d-4aa6-8a4d-ffeec016ff2d",
   "metadata": {},
   "outputs": [],
   "source": [
    "filename = 'modelos/svm.sav'\n",
    "pickle.dump(svm_classifier, open(filename, 'wb'))"
   ]
  },
  {
   "cell_type": "code",
   "execution_count": 72,
   "id": "50dd9301-c970-43df-a039-00afc0600d9f",
   "metadata": {},
   "outputs": [],
   "source": [
    "svm_predict = svm_classifier.predict(X_test_vectorized)"
   ]
  },
  {
   "cell_type": "code",
   "execution_count": 73,
   "id": "1fe5eec6-5c9a-45b9-a634-d37396f2f8f5",
   "metadata": {},
   "outputs": [
    {
     "name": "stdout",
     "output_type": "stream",
     "text": [
      "Accuracy:   0.863905325443787\n",
      "Precision:  0.8638132295719845\n",
      "Recall:     0.8671875\n",
      "AUC score:  0.8638726344621515\n"
     ]
    }
   ],
   "source": [
    "print(\"Accuracy:  \", accuracy_score(y_test, svm_predict))\n",
    "print(\"Precision: \", precision_score(y_test, svm_predict))\n",
    "print(\"Recall:    \", recall_score(y_test, svm_predict))\n",
    "print(\"AUC score: \", roc_auc_score(y_test, svm_predict))"
   ]
  },
  {
   "cell_type": "code",
   "execution_count": 74,
   "id": "92eded7b-2865-4c8a-bc7c-9feb9bc9dd83",
   "metadata": {},
   "outputs": [
    {
     "name": "stdout",
     "output_type": "stream",
     "text": [
      "Confusion Matrix:  \n"
     ]
    },
    {
     "data": {
      "text/plain": [
       "array([[432,  70],\n",
       "       [ 68, 444]], dtype=int64)"
      ]
     },
     "execution_count": 74,
     "metadata": {},
     "output_type": "execute_result"
    }
   ],
   "source": [
    "print(\"Confusion Matrix:  \")\n",
    "confusion_matrix(y_test, svm_predict)"
   ]
  },
  {
   "cell_type": "markdown",
   "id": "23e115d3-dd22-48fe-be69-fe8799d5dc03",
   "metadata": {},
   "source": [
    "O SVM foi o pior modelo até o momento, mas mesmo assim apresentou ótimos valores, muito acima da meta estabelecida.  \n",
    "O modelo conseguiu classificar corretamente a maioria das notícias e manter uma taxa interessate de falsos positivos e falsos negativos."
   ]
  },
  {
   "cell_type": "markdown",
   "id": "5b53112d-10b3-4fb3-ba81-bb4dbb86d509",
   "metadata": {},
   "source": [
    "### Naive Bayes"
   ]
  },
  {
   "cell_type": "code",
   "execution_count": 75,
   "id": "fdc0d9e9-9951-4103-a7a7-ecc11a9d324e",
   "metadata": {},
   "outputs": [
    {
     "data": {
      "text/plain": [
       "MultinomialNB(alpha=0.5)"
      ]
     },
     "execution_count": 75,
     "metadata": {},
     "output_type": "execute_result"
    }
   ],
   "source": [
    "nb_classifier = MultinomialNB(alpha = 0.5)\n",
    "\n",
    "nb_classifier.fit(X_train_vectorized,y_train.values.ravel())"
   ]
  },
  {
   "cell_type": "code",
   "execution_count": 76,
   "id": "ea8d42e4-f6bc-4f5e-b8be-f1503ae6e08a",
   "metadata": {},
   "outputs": [],
   "source": [
    "filename = 'modelos/naive_bayes.sav'\n",
    "pickle.dump(nb_classifier, open(filename, 'wb'))"
   ]
  },
  {
   "cell_type": "code",
   "execution_count": 77,
   "id": "55ed9a9b-14b4-4bc8-8e47-d5ecc61c9a50",
   "metadata": {},
   "outputs": [],
   "source": [
    "nb_predict = nb_classifier.predict(X_test_vectorized)"
   ]
  },
  {
   "cell_type": "code",
   "execution_count": 78,
   "id": "ab35ffdc-f9b7-43f3-ae00-a8099dad05f1",
   "metadata": {},
   "outputs": [
    {
     "name": "stdout",
     "output_type": "stream",
     "text": [
      "Accuracy:   0.8767258382642998\n",
      "Precision:  0.9125799573560768\n",
      "Recall:     0.8359375\n",
      "AUC score:  0.8771320966135457\n"
     ]
    }
   ],
   "source": [
    "print(\"Accuracy:  \", accuracy_score(y_test, nb_predict))\n",
    "print(\"Precision: \", precision_score(y_test, nb_predict))\n",
    "print(\"Recall:    \", recall_score(y_test, nb_predict))\n",
    "print(\"AUC score: \", roc_auc_score(y_test, nb_predict))"
   ]
  },
  {
   "cell_type": "code",
   "execution_count": 79,
   "id": "d2a6f0ea-5254-44cf-9fb9-77a4d5c30302",
   "metadata": {},
   "outputs": [
    {
     "name": "stdout",
     "output_type": "stream",
     "text": [
      "Confusion Matrix:  \n"
     ]
    },
    {
     "data": {
      "text/plain": [
       "array([[461,  41],\n",
       "       [ 84, 428]], dtype=int64)"
      ]
     },
     "execution_count": 79,
     "metadata": {},
     "output_type": "execute_result"
    }
   ],
   "source": [
    "print(\"Confusion Matrix:  \")\n",
    "confusion_matrix(y_test, nb_predict)"
   ]
  },
  {
   "cell_type": "markdown",
   "id": "2ed17fc2-e46e-4c76-8542-82c8e2127db3",
   "metadata": {},
   "source": [
    "O Naive Bayes ficou próximo do SVM, mas mesmo assim apresentou ótimos valores, muito acima da meta estabelecida.  \n",
    "O modelo conseguiu classificar corretamente a maioria das notícias e manter uma taxa interessate de falsos positivos e falsos negativos."
   ]
  },
  {
   "cell_type": "markdown",
   "id": "322f690e-e8e9-4304-b77c-8c53e8a3dfe0",
   "metadata": {},
   "source": [
    "================="
   ]
  },
  {
   "cell_type": "markdown",
   "id": "1fc77ec7-944f-49c1-ba3e-0f81f25d51e1",
   "metadata": {},
   "source": [
    "Os quatro classificadores escolhidos apresentaram um bom resultado com os dados de teste e agora serão testatos com os dados de validação, simulando uma aplicação real."
   ]
  },
  {
   "cell_type": "code",
   "execution_count": null,
   "id": "906e88c2-6d27-4173-a35b-822401c25534",
   "metadata": {},
   "outputs": [],
   "source": []
  }
 ],
 "metadata": {
  "kernelspec": {
   "display_name": "Python 3 (ipykernel)",
   "language": "python",
   "name": "python3"
  },
  "language_info": {
   "codemirror_mode": {
    "name": "ipython",
    "version": 3
   },
   "file_extension": ".py",
   "mimetype": "text/x-python",
   "name": "python",
   "nbconvert_exporter": "python",
   "pygments_lexer": "ipython3",
   "version": "3.9.12"
  }
 },
 "nbformat": 4,
 "nbformat_minor": 5
}
