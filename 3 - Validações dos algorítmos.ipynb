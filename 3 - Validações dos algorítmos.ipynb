{
 "cells": [
  {
   "cell_type": "markdown",
   "id": "c0e18847-6226-4225-8d21-edea177fe75f",
   "metadata": {},
   "source": [
    "Projeto final do curso da Mentorama\n",
    "\n",
    "Aluno: Rodrigo Martini Riboldi\n",
    "\n",
    "Projeto: Classificador de notícias falsas"
   ]
  },
  {
   "cell_type": "markdown",
   "id": "bc1728d6-54d7-4660-b0e9-18a6207dbb89",
   "metadata": {},
   "source": [
    "Esse notebook tem como objetivo realizar a validação e análises da performance dos classificadores, simulando um ambiente de produção."
   ]
  },
  {
   "cell_type": "code",
   "execution_count": 47,
   "id": "3c09d79a-2cf6-42b8-ab86-bd71d024024a",
   "metadata": {},
   "outputs": [],
   "source": [
    "import pandas as pd\n",
    "import numpy as np\n",
    "import matplotlib.pyplot as plt\n",
    "import pickle"
   ]
  },
  {
   "cell_type": "markdown",
   "id": "c4c27a93-4433-4f3b-bd6b-fa09b1302b00",
   "metadata": {},
   "source": [
    "# Importando modelos"
   ]
  },
  {
   "cell_type": "code",
   "execution_count": 48,
   "id": "0075d18b-297e-496b-b9c2-61fd714f8dd9",
   "metadata": {},
   "outputs": [],
   "source": [
    "# Carregando o bag of words\n",
    "cv = pickle.load(open('modelos/bag_of_words.sav', 'rb'))"
   ]
  },
  {
   "cell_type": "code",
   "execution_count": 49,
   "id": "b0a3a30a-97fa-49b5-b524-05416b20d718",
   "metadata": {},
   "outputs": [],
   "source": [
    "# Carregando modelos\n",
    "rf_classifier = pickle.load(open('modelos/random_forrest.sav', 'rb'))\n",
    "xgb_classifier = pickle.load(open('modelos/xgboost.sav', 'rb'))\n",
    "svm_classifier = pickle.load(open('modelos/svm.sav', 'rb'))\n",
    "nb_classifier = pickle.load(open('modelos/naive_bayes.sav', 'rb'))"
   ]
  },
  {
   "cell_type": "markdown",
   "id": "73ee8061-75f9-4fc8-9795-58df9d3d84d4",
   "metadata": {
    "tags": []
   },
   "source": [
    "# Importando dados de validação"
   ]
  },
  {
   "cell_type": "code",
   "execution_count": 50,
   "id": "f2523584-6dbd-4acd-a7e1-e6edca33b41e",
   "metadata": {},
   "outputs": [],
   "source": [
    "df_validation = pd.read_csv('dados/df_validation.csv').drop(columns = 'Unnamed: 0')"
   ]
  },
  {
   "cell_type": "code",
   "execution_count": 51,
   "id": "6c14689a-479e-4e64-8ece-c17717b79bd7",
   "metadata": {},
   "outputs": [],
   "source": [
    "df_validation['y_validation'] = df_validation.label.map(dict({'REAL':0,'FAKE':1}))"
   ]
  },
  {
   "cell_type": "markdown",
   "id": "2477d6d4-5486-4f46-aa52-2025fb959972",
   "metadata": {},
   "source": [
    "## Preparando textos das notícias para rodar nos classificadores"
   ]
  },
  {
   "cell_type": "markdown",
   "id": "0e3b2e78-480a-4aad-8b7b-93921ecf9e69",
   "metadata": {},
   "source": [
    "## Classificando notícias"
   ]
  },
  {
   "cell_type": "code",
   "execution_count": 52,
   "id": "782f0b8d-534c-4882-8c67-85fdd764726f",
   "metadata": {},
   "outputs": [],
   "source": [
    "X_validation_vectorized = cv.transform(df_validation.text.values)"
   ]
  },
  {
   "cell_type": "code",
   "execution_count": 53,
   "id": "9f7dbc17-2480-40dd-b070-14043a939a2b",
   "metadata": {},
   "outputs": [],
   "source": [
    "df_validation['rf_validation'] = rf_classifier.predict(X_validation_vectorized)"
   ]
  },
  {
   "cell_type": "code",
   "execution_count": 54,
   "id": "b0c0a3ae-834d-45d4-b883-9adefb1bed7f",
   "metadata": {},
   "outputs": [],
   "source": [
    "df_validation['xgb_validation'] = xgb_classifier.predict(X_validation_vectorized)"
   ]
  },
  {
   "cell_type": "code",
   "execution_count": 55,
   "id": "bd9d3127-6b1e-4825-83ee-f5732f67f6ab",
   "metadata": {},
   "outputs": [],
   "source": [
    "df_validation['svm_validation'] = svm_classifier.predict(X_validation_vectorized)"
   ]
  },
  {
   "cell_type": "code",
   "execution_count": 56,
   "id": "df25144b-9e44-4357-8d57-6c577a9ccc75",
   "metadata": {},
   "outputs": [],
   "source": [
    "df_validation['nb_validation'] = nb_classifier.predict(X_validation_vectorized)"
   ]
  },
  {
   "cell_type": "code",
   "execution_count": 57,
   "id": "71257ed1-988c-4b1b-bcd6-c80ad7fa43a4",
   "metadata": {},
   "outputs": [
    {
     "data": {
      "text/html": [
       "<div>\n",
       "<style scoped>\n",
       "    .dataframe tbody tr th:only-of-type {\n",
       "        vertical-align: middle;\n",
       "    }\n",
       "\n",
       "    .dataframe tbody tr th {\n",
       "        vertical-align: top;\n",
       "    }\n",
       "\n",
       "    .dataframe thead th {\n",
       "        text-align: right;\n",
       "    }\n",
       "</style>\n",
       "<table border=\"1\" class=\"dataframe\">\n",
       "  <thead>\n",
       "    <tr style=\"text-align: right;\">\n",
       "      <th></th>\n",
       "      <th>title</th>\n",
       "      <th>text</th>\n",
       "      <th>label</th>\n",
       "      <th>y_validation</th>\n",
       "      <th>rf_validation</th>\n",
       "      <th>xgb_validation</th>\n",
       "      <th>svm_validation</th>\n",
       "      <th>nb_validation</th>\n",
       "    </tr>\n",
       "  </thead>\n",
       "  <tbody>\n",
       "    <tr>\n",
       "      <th>0</th>\n",
       "      <td>Pentagon weighs using force to protect US-back...</td>\n",
       "      <td>Senior U.S. military leaders and defense offic...</td>\n",
       "      <td>REAL</td>\n",
       "      <td>0</td>\n",
       "      <td>0</td>\n",
       "      <td>0</td>\n",
       "      <td>0</td>\n",
       "      <td>0</td>\n",
       "    </tr>\n",
       "    <tr>\n",
       "      <th>1</th>\n",
       "      <td>UK announces new troop deployment near Russia'...</td>\n",
       "      <td>Military British Defense Secretary Michael Fal...</td>\n",
       "      <td>FAKE</td>\n",
       "      <td>1</td>\n",
       "      <td>1</td>\n",
       "      <td>1</td>\n",
       "      <td>1</td>\n",
       "      <td>1</td>\n",
       "    </tr>\n",
       "    <tr>\n",
       "      <th>2</th>\n",
       "      <td>Dog Waited Faithfully For Over A Month After H...</td>\n",
       "      <td>There have been horror stories of families lea...</td>\n",
       "      <td>FAKE</td>\n",
       "      <td>1</td>\n",
       "      <td>1</td>\n",
       "      <td>1</td>\n",
       "      <td>1</td>\n",
       "      <td>1</td>\n",
       "    </tr>\n",
       "    <tr>\n",
       "      <th>3</th>\n",
       "      <td>Defense Secretary Carter endorses 3-year timel...</td>\n",
       "      <td>Defense Secretary Ash Carter on Wednesday endo...</td>\n",
       "      <td>REAL</td>\n",
       "      <td>0</td>\n",
       "      <td>0</td>\n",
       "      <td>0</td>\n",
       "      <td>0</td>\n",
       "      <td>0</td>\n",
       "    </tr>\n",
       "    <tr>\n",
       "      <th>4</th>\n",
       "      <td>Hilarious Cartoon Reveals 2016 Political Versi...</td>\n",
       "      <td>Pinterest \\nC.E. Dyer writes that the disaster...</td>\n",
       "      <td>FAKE</td>\n",
       "      <td>1</td>\n",
       "      <td>0</td>\n",
       "      <td>0</td>\n",
       "      <td>1</td>\n",
       "      <td>0</td>\n",
       "    </tr>\n",
       "    <tr>\n",
       "      <th>...</th>\n",
       "      <td>...</td>\n",
       "      <td>...</td>\n",
       "      <td>...</td>\n",
       "      <td>...</td>\n",
       "      <td>...</td>\n",
       "      <td>...</td>\n",
       "      <td>...</td>\n",
       "      <td>...</td>\n",
       "    </tr>\n",
       "    <tr>\n",
       "      <th>1262</th>\n",
       "      <td>Architect Of Paris Attacks Was Killed In Raid,...</td>\n",
       "      <td>Architect Of Paris Attacks Was Killed In Raid,...</td>\n",
       "      <td>REAL</td>\n",
       "      <td>0</td>\n",
       "      <td>0</td>\n",
       "      <td>0</td>\n",
       "      <td>0</td>\n",
       "      <td>0</td>\n",
       "    </tr>\n",
       "    <tr>\n",
       "      <th>1263</th>\n",
       "      <td>Investment Strategist Forecasts Collapse Timel...</td>\n",
       "      <td>Home » Headlines » Finance News » Investment S...</td>\n",
       "      <td>FAKE</td>\n",
       "      <td>1</td>\n",
       "      <td>1</td>\n",
       "      <td>1</td>\n",
       "      <td>1</td>\n",
       "      <td>1</td>\n",
       "    </tr>\n",
       "    <tr>\n",
       "      <th>1264</th>\n",
       "      <td>A Message to my Fellow Republicans</td>\n",
       "      <td>As the unfolding Clinton email story plays out...</td>\n",
       "      <td>REAL</td>\n",
       "      <td>0</td>\n",
       "      <td>0</td>\n",
       "      <td>0</td>\n",
       "      <td>1</td>\n",
       "      <td>1</td>\n",
       "    </tr>\n",
       "    <tr>\n",
       "      <th>1265</th>\n",
       "      <td>Donald Trump: 'I'm not flip-flopping' on immig...</td>\n",
       "      <td>Washington (CNN) It's still undecided whether ...</td>\n",
       "      <td>REAL</td>\n",
       "      <td>0</td>\n",
       "      <td>0</td>\n",
       "      <td>0</td>\n",
       "      <td>0</td>\n",
       "      <td>0</td>\n",
       "    </tr>\n",
       "    <tr>\n",
       "      <th>1266</th>\n",
       "      <td>Poll: Trump leads GOP race nationally but with...</td>\n",
       "      <td>Donald Trump continues to lead his rivals nati...</td>\n",
       "      <td>REAL</td>\n",
       "      <td>0</td>\n",
       "      <td>0</td>\n",
       "      <td>0</td>\n",
       "      <td>0</td>\n",
       "      <td>0</td>\n",
       "    </tr>\n",
       "  </tbody>\n",
       "</table>\n",
       "<p>1267 rows × 8 columns</p>\n",
       "</div>"
      ],
      "text/plain": [
       "                                                  title  \\\n",
       "0     Pentagon weighs using force to protect US-back...   \n",
       "1     UK announces new troop deployment near Russia'...   \n",
       "2     Dog Waited Faithfully For Over A Month After H...   \n",
       "3     Defense Secretary Carter endorses 3-year timel...   \n",
       "4     Hilarious Cartoon Reveals 2016 Political Versi...   \n",
       "...                                                 ...   \n",
       "1262  Architect Of Paris Attacks Was Killed In Raid,...   \n",
       "1263  Investment Strategist Forecasts Collapse Timel...   \n",
       "1264                 A Message to my Fellow Republicans   \n",
       "1265  Donald Trump: 'I'm not flip-flopping' on immig...   \n",
       "1266  Poll: Trump leads GOP race nationally but with...   \n",
       "\n",
       "                                                   text label  y_validation  \\\n",
       "0     Senior U.S. military leaders and defense offic...  REAL             0   \n",
       "1     Military British Defense Secretary Michael Fal...  FAKE             1   \n",
       "2     There have been horror stories of families lea...  FAKE             1   \n",
       "3     Defense Secretary Ash Carter on Wednesday endo...  REAL             0   \n",
       "4     Pinterest \\nC.E. Dyer writes that the disaster...  FAKE             1   \n",
       "...                                                 ...   ...           ...   \n",
       "1262  Architect Of Paris Attacks Was Killed In Raid,...  REAL             0   \n",
       "1263  Home » Headlines » Finance News » Investment S...  FAKE             1   \n",
       "1264  As the unfolding Clinton email story plays out...  REAL             0   \n",
       "1265  Washington (CNN) It's still undecided whether ...  REAL             0   \n",
       "1266  Donald Trump continues to lead his rivals nati...  REAL             0   \n",
       "\n",
       "      rf_validation  xgb_validation  svm_validation  nb_validation  \n",
       "0                 0               0               0              0  \n",
       "1                 1               1               1              1  \n",
       "2                 1               1               1              1  \n",
       "3                 0               0               0              0  \n",
       "4                 0               0               1              0  \n",
       "...             ...             ...             ...            ...  \n",
       "1262              0               0               0              0  \n",
       "1263              1               1               1              1  \n",
       "1264              0               0               1              1  \n",
       "1265              0               0               0              0  \n",
       "1266              0               0               0              0  \n",
       "\n",
       "[1267 rows x 8 columns]"
      ]
     },
     "execution_count": 57,
     "metadata": {},
     "output_type": "execute_result"
    }
   ],
   "source": [
    "df_validation"
   ]
  },
  {
   "cell_type": "markdown",
   "id": "fc70b886-85a2-43d9-b384-a2c40030a536",
   "metadata": {},
   "source": [
    "## Calculando métricas com dados de validação"
   ]
  },
  {
   "cell_type": "code",
   "execution_count": 58,
   "id": "ba9d1559-9c89-41be-95ec-3a50c735cc67",
   "metadata": {},
   "outputs": [],
   "source": [
    "from sklearn.metrics import accuracy_score\n",
    "from sklearn.metrics import recall_score # The recall is intuitively the ability of the classifier to find all the positive samples.\n",
    "from sklearn.metrics import precision_score  #The precision is intuitively the ability of the classifier not to label as positive a sample that is negative.\n",
    "from sklearn.metrics import confusion_matrix\n",
    "from sklearn.metrics import roc_auc_score"
   ]
  },
  {
   "cell_type": "code",
   "execution_count": 59,
   "id": "69349eaf-b77f-44c4-b85b-f4c6c339694c",
   "metadata": {},
   "outputs": [
    {
     "name": "stdout",
     "output_type": "stream",
     "text": [
      "Accuracy:   0.9084451460142068\n",
      "Precision:  0.9321486268174475\n",
      "Recall:     0.8863287250384024\n",
      "AUC score:  0.9090734534282922\n"
     ]
    }
   ],
   "source": [
    "print(\"Accuracy:  \", accuracy_score(df_validation.y_validation, df_validation.rf_validation))\n",
    "print(\"Precision: \", precision_score(df_validation.y_validation, df_validation.rf_validation))\n",
    "print(\"Recall:    \", recall_score(df_validation.y_validation, df_validation.rf_validation))\n",
    "print(\"AUC score: \", roc_auc_score(df_validation.y_validation, df_validation.rf_validation))"
   ]
  },
  {
   "cell_type": "code",
   "execution_count": 60,
   "id": "ebdc872c-2483-4829-81a1-6576fbcf372f",
   "metadata": {},
   "outputs": [],
   "source": [
    "model_metrics = dict()\n",
    "model_metrics['RF Accuracy'] = accuracy_score(df_validation.y_validation, df_validation.rf_validation)\n",
    "model_metrics['RF Precision'] = precision_score(df_validation.y_validation, df_validation.rf_validation)\n",
    "model_metrics['RF Recall'] = recall_score(df_validation.y_validation, df_validation.rf_validation)\n",
    "model_metrics['RF AUC score'] = roc_auc_score(df_validation.y_validation, df_validation.rf_validation)"
   ]
  },
  {
   "cell_type": "code",
   "execution_count": 61,
   "id": "fcb5a713-6525-4086-9e37-72357a07e6ee",
   "metadata": {},
   "outputs": [
    {
     "name": "stdout",
     "output_type": "stream",
     "text": [
      "Confusion Matrix:  \n"
     ]
    },
    {
     "data": {
      "text/plain": [
       "array([[574,  42],\n",
       "       [ 74, 577]], dtype=int64)"
      ]
     },
     "execution_count": 61,
     "metadata": {},
     "output_type": "execute_result"
    }
   ],
   "source": [
    "print(\"Confusion Matrix:  \")\n",
    "confusion_matrix(df_validation.y_validation, df_validation.rf_validation)"
   ]
  },
  {
   "cell_type": "code",
   "execution_count": 62,
   "id": "11258742-80ce-4cf0-8d28-8d6a6499fa8e",
   "metadata": {},
   "outputs": [
    {
     "name": "stdout",
     "output_type": "stream",
     "text": [
      "Accuracy:   0.9210734017363852\n",
      "Precision:  0.9271317829457364\n",
      "Recall:     0.9185867895545314\n",
      "AUC score:  0.9211440441279151\n"
     ]
    }
   ],
   "source": [
    "print(\"Accuracy:  \", accuracy_score(df_validation.y_validation, df_validation.xgb_validation))\n",
    "print(\"Precision: \", precision_score(df_validation.y_validation, df_validation.xgb_validation))\n",
    "print(\"Recall:    \", recall_score(df_validation.y_validation, df_validation.xgb_validation))\n",
    "print(\"AUC score: \", roc_auc_score(df_validation.y_validation, df_validation.xgb_validation))"
   ]
  },
  {
   "cell_type": "code",
   "execution_count": 63,
   "id": "728744f5-4b96-4627-a681-4c5d83c36e0e",
   "metadata": {},
   "outputs": [],
   "source": [
    "model_metrics['XGBoost Accuracy'] = accuracy_score(df_validation.y_validation, df_validation.xgb_validation)\n",
    "model_metrics['XGBoost Precision'] = precision_score(df_validation.y_validation, df_validation.xgb_validation)\n",
    "model_metrics['XGBoost Recall'] = recall_score(df_validation.y_validation, df_validation.xgb_validation)\n",
    "model_metrics['XGBoost AUC score'] = roc_auc_score(df_validation.y_validation, df_validation.xgb_validation)"
   ]
  },
  {
   "cell_type": "code",
   "execution_count": 64,
   "id": "cd5d590a-9457-4234-a8fb-ab6fb2c052d0",
   "metadata": {},
   "outputs": [
    {
     "name": "stdout",
     "output_type": "stream",
     "text": [
      "Confusion Matrix:  \n"
     ]
    },
    {
     "data": {
      "text/plain": [
       "array([[569,  47],\n",
       "       [ 53, 598]], dtype=int64)"
      ]
     },
     "execution_count": 64,
     "metadata": {},
     "output_type": "execute_result"
    }
   ],
   "source": [
    "print(\"Confusion Matrix:  \")\n",
    "confusion_matrix(df_validation.y_validation, df_validation.xgb_validation)"
   ]
  },
  {
   "cell_type": "code",
   "execution_count": 65,
   "id": "3b1dc5fb-4784-4129-b75d-7fc123881f91",
   "metadata": {},
   "outputs": [
    {
     "name": "stdout",
     "output_type": "stream",
     "text": [
      "Accuracy:   0.861878453038674\n",
      "Precision:  0.8777777777777778\n",
      "Recall:     0.8494623655913979\n",
      "AUC score:  0.862231182795699\n"
     ]
    }
   ],
   "source": [
    "print(\"Accuracy:  \", accuracy_score(df_validation.y_validation, df_validation.svm_validation))\n",
    "print(\"Precision: \", precision_score(df_validation.y_validation, df_validation.svm_validation))\n",
    "print(\"Recall:    \", recall_score(df_validation.y_validation, df_validation.svm_validation))\n",
    "print(\"AUC score: \", roc_auc_score(df_validation.y_validation, df_validation.svm_validation))"
   ]
  },
  {
   "cell_type": "code",
   "execution_count": 66,
   "id": "772df60b-2ac7-4743-b307-903020ac1a71",
   "metadata": {},
   "outputs": [],
   "source": [
    "model_metrics['SVM Accuracy'] = accuracy_score(df_validation.y_validation, df_validation.svm_validation)\n",
    "model_metrics['SVM Precision'] = precision_score(df_validation.y_validation, df_validation.svm_validation)\n",
    "model_metrics['SVM Recall'] = recall_score(df_validation.y_validation, df_validation.svm_validation)\n",
    "model_metrics['SVM AUC score'] = roc_auc_score(df_validation.y_validation, df_validation.svm_validation)"
   ]
  },
  {
   "cell_type": "code",
   "execution_count": 67,
   "id": "0c29c9e9-78ff-418c-b049-213da5c7995b",
   "metadata": {},
   "outputs": [
    {
     "name": "stdout",
     "output_type": "stream",
     "text": [
      "Confusion Matrix:  \n"
     ]
    },
    {
     "data": {
      "text/plain": [
       "array([[539,  77],\n",
       "       [ 98, 553]], dtype=int64)"
      ]
     },
     "execution_count": 67,
     "metadata": {},
     "output_type": "execute_result"
    }
   ],
   "source": [
    "print(\"Confusion Matrix:  \")\n",
    "confusion_matrix(df_validation.y_validation, df_validation.svm_validation)"
   ]
  },
  {
   "cell_type": "code",
   "execution_count": 68,
   "id": "5dde1bb4-71d5-4544-b661-008d167ad6cc",
   "metadata": {},
   "outputs": [
    {
     "name": "stdout",
     "output_type": "stream",
     "text": [
      "Accuracy:   0.8918705603788477\n",
      "Precision:  0.9461805555555556\n",
      "Recall:     0.837173579109063\n",
      "AUC score:  0.8934244518921939\n"
     ]
    }
   ],
   "source": [
    "print(\"Accuracy:  \", accuracy_score(df_validation.y_validation, df_validation.nb_validation))\n",
    "print(\"Precision: \", precision_score(df_validation.y_validation, df_validation.nb_validation))\n",
    "print(\"Recall:    \", recall_score(df_validation.y_validation, df_validation.nb_validation))\n",
    "print(\"AUC score: \", roc_auc_score(df_validation.y_validation, df_validation.nb_validation))"
   ]
  },
  {
   "cell_type": "code",
   "execution_count": 69,
   "id": "82fecdd3-5509-4343-adb1-f4888d26dec7",
   "metadata": {},
   "outputs": [],
   "source": [
    "model_metrics['NB Accuracy'] = accuracy_score(df_validation.y_validation, df_validation.nb_validation)\n",
    "model_metrics['NB Precision'] = precision_score(df_validation.y_validation, df_validation.nb_validation)\n",
    "model_metrics['NB Recall'] = recall_score(df_validation.y_validation, df_validation.nb_validation)\n",
    "model_metrics['NB AUC score'] = roc_auc_score(df_validation.y_validation, df_validation.nb_validation)"
   ]
  },
  {
   "cell_type": "code",
   "execution_count": 70,
   "id": "7e0c4506-21ec-402a-95bc-920587f30e8a",
   "metadata": {},
   "outputs": [
    {
     "name": "stdout",
     "output_type": "stream",
     "text": [
      "Confusion Matrix:  \n"
     ]
    },
    {
     "data": {
      "text/plain": [
       "array([[585,  31],\n",
       "       [106, 545]], dtype=int64)"
      ]
     },
     "execution_count": 70,
     "metadata": {},
     "output_type": "execute_result"
    }
   ],
   "source": [
    "print(\"Confusion Matrix:  \")\n",
    "confusion_matrix(df_validation.y_validation, df_validation.nb_validation)"
   ]
  },
  {
   "cell_type": "code",
   "execution_count": 71,
   "id": "35230c9d-1639-4b63-8e32-de965252dc87",
   "metadata": {},
   "outputs": [
    {
     "data": {
      "text/plain": [
       "{'RF Accuracy': 0.9084451460142068,\n",
       " 'RF Precision': 0.9321486268174475,\n",
       " 'RF Recall': 0.8863287250384024,\n",
       " 'RF AUC score': 0.9090734534282922,\n",
       " 'XGBoost Accuracy': 0.9210734017363852,\n",
       " 'XGBoost Precision': 0.9271317829457364,\n",
       " 'XGBoost Recall': 0.9185867895545314,\n",
       " 'XGBoost AUC score': 0.9211440441279151,\n",
       " 'SVM Accuracy': 0.861878453038674,\n",
       " 'SVM Precision': 0.8777777777777778,\n",
       " 'SVM Recall': 0.8494623655913979,\n",
       " 'SVM AUC score': 0.862231182795699,\n",
       " 'NB Accuracy': 0.8918705603788477,\n",
       " 'NB Precision': 0.9461805555555556,\n",
       " 'NB Recall': 0.837173579109063,\n",
       " 'NB AUC score': 0.8934244518921939}"
      ]
     },
     "execution_count": 71,
     "metadata": {},
     "output_type": "execute_result"
    }
   ],
   "source": [
    "model_metrics"
   ]
  },
  {
   "cell_type": "code",
   "execution_count": 72,
   "id": "17f711e5-f8f9-44cc-88c6-985cb23568b5",
   "metadata": {},
   "outputs": [],
   "source": [
    "import json\n",
    "\n",
    "with open('metricas/model_metrics.json', 'w') as fp:\n",
    "    json.dump(model_metrics, fp)"
   ]
  },
  {
   "cell_type": "code",
   "execution_count": 73,
   "id": "81a26241-afad-4606-b91e-400b9d0d91ac",
   "metadata": {},
   "outputs": [
    {
     "data": {
      "text/plain": [
       "{'RF Accuracy': 0.9084451460142068,\n",
       " 'RF Precision': 0.9321486268174475,\n",
       " 'RF Recall': 0.8863287250384024,\n",
       " 'RF AUC score': 0.9090734534282922,\n",
       " 'XGBoost Accuracy': 0.9210734017363852,\n",
       " 'XGBoost Precision': 0.9271317829457364,\n",
       " 'XGBoost Recall': 0.9185867895545314,\n",
       " 'XGBoost AUC score': 0.9211440441279151,\n",
       " 'SVM Accuracy': 0.861878453038674,\n",
       " 'SVM Precision': 0.8777777777777778,\n",
       " 'SVM Recall': 0.8494623655913979,\n",
       " 'SVM AUC score': 0.862231182795699,\n",
       " 'NB Accuracy': 0.8918705603788477,\n",
       " 'NB Precision': 0.9461805555555556,\n",
       " 'NB Recall': 0.837173579109063,\n",
       " 'NB AUC score': 0.8934244518921939}"
      ]
     },
     "execution_count": 73,
     "metadata": {},
     "output_type": "execute_result"
    }
   ],
   "source": [
    "with open('metricas/model_metrics.json', 'r') as openfile:\n",
    "    \n",
    "    model_metrics_json = json.load(openfile)\n",
    "    \n",
    "model_metrics_json"
   ]
  },
  {
   "cell_type": "markdown",
   "id": "01ab2337-51a4-4d43-a6fa-c59bba5f1110",
   "metadata": {},
   "source": [
    "Com os dados de valiação, os quatro classificadores se sairam muito bem, replicando o comportamento dos dados de teste, com o SVM e o Naive Bayes possuindo desempenhos um pouco inferiores ao Random Forest e o XGBoost."
   ]
  },
  {
   "cell_type": "markdown",
   "id": "f1dd4110-86b0-42dc-8065-fc963cd30bba",
   "metadata": {},
   "source": [
    "# Analisando resultados das predições"
   ]
  },
  {
   "cell_type": "markdown",
   "id": "cd79f1fe-6480-4b93-8b94-a6c8dba888af",
   "metadata": {},
   "source": [
    "Análise com o intuito de identificar problemas e verificar vieses de comportamento"
   ]
  },
  {
   "cell_type": "code",
   "execution_count": 74,
   "id": "e97ab118-750e-4835-a370-e2fddff1a9f2",
   "metadata": {},
   "outputs": [],
   "source": [
    "df_validation['sum_classifications'] = df_validation.rf_validation + df_validation.xgb_validation + df_validation.svm_validation + df_validation.nb_validation"
   ]
  },
  {
   "cell_type": "markdown",
   "id": "4097332b-422d-4729-a875-7fb5f8e9b3d8",
   "metadata": {},
   "source": [
    "## Notícias reais classificadas como fake por todos algorítmos"
   ]
  },
  {
   "cell_type": "code",
   "execution_count": 75,
   "id": "4279f6ed-d2a3-4132-89c8-80987f2bfa1d",
   "metadata": {},
   "outputs": [
    {
     "data": {
      "text/html": [
       "<div>\n",
       "<style scoped>\n",
       "    .dataframe tbody tr th:only-of-type {\n",
       "        vertical-align: middle;\n",
       "    }\n",
       "\n",
       "    .dataframe tbody tr th {\n",
       "        vertical-align: top;\n",
       "    }\n",
       "\n",
       "    .dataframe thead th {\n",
       "        text-align: right;\n",
       "    }\n",
       "</style>\n",
       "<table border=\"1\" class=\"dataframe\">\n",
       "  <thead>\n",
       "    <tr style=\"text-align: right;\">\n",
       "      <th></th>\n",
       "      <th>title</th>\n",
       "      <th>text</th>\n",
       "      <th>label</th>\n",
       "      <th>y_validation</th>\n",
       "      <th>rf_validation</th>\n",
       "      <th>xgb_validation</th>\n",
       "      <th>svm_validation</th>\n",
       "      <th>nb_validation</th>\n",
       "      <th>sum_classifications</th>\n",
       "    </tr>\n",
       "  </thead>\n",
       "  <tbody>\n",
       "    <tr>\n",
       "      <th>113</th>\n",
       "      <td>Patriots Day 2015: Boston does not stand alone</td>\n",
       "      <td>In the two years since the horrific marathon b...</td>\n",
       "      <td>REAL</td>\n",
       "      <td>0</td>\n",
       "      <td>1</td>\n",
       "      <td>1</td>\n",
       "      <td>1</td>\n",
       "      <td>1</td>\n",
       "      <td>4</td>\n",
       "    </tr>\n",
       "    <tr>\n",
       "      <th>211</th>\n",
       "      <td>States with the most people on food stamps</td>\n",
       "      <td>With grocery bills priced as high as $1,300 pe...</td>\n",
       "      <td>REAL</td>\n",
       "      <td>0</td>\n",
       "      <td>1</td>\n",
       "      <td>1</td>\n",
       "      <td>1</td>\n",
       "      <td>1</td>\n",
       "      <td>4</td>\n",
       "    </tr>\n",
       "    <tr>\n",
       "      <th>717</th>\n",
       "      <td>Black faith is under attack: How to make sense...</td>\n",
       "      <td>When I woke up on Thursday morning, the world ...</td>\n",
       "      <td>REAL</td>\n",
       "      <td>0</td>\n",
       "      <td>1</td>\n",
       "      <td>1</td>\n",
       "      <td>1</td>\n",
       "      <td>1</td>\n",
       "      <td>4</td>\n",
       "    </tr>\n",
       "    <tr>\n",
       "      <th>927</th>\n",
       "      <td>Providing Balanced Information Is Not Facebook...</td>\n",
       "      <td>Catherine R. Squires is a professor of communi...</td>\n",
       "      <td>REAL</td>\n",
       "      <td>0</td>\n",
       "      <td>1</td>\n",
       "      <td>1</td>\n",
       "      <td>1</td>\n",
       "      <td>1</td>\n",
       "      <td>4</td>\n",
       "    </tr>\n",
       "    <tr>\n",
       "      <th>1152</th>\n",
       "      <td>Donald Trump Call For Immediate Shutdown of Cl...</td>\n",
       "      <td>Donald Trump called this morning for the Clint...</td>\n",
       "      <td>REAL</td>\n",
       "      <td>0</td>\n",
       "      <td>1</td>\n",
       "      <td>1</td>\n",
       "      <td>1</td>\n",
       "      <td>1</td>\n",
       "      <td>4</td>\n",
       "    </tr>\n",
       "  </tbody>\n",
       "</table>\n",
       "</div>"
      ],
      "text/plain": [
       "                                                  title  \\\n",
       "113      Patriots Day 2015: Boston does not stand alone   \n",
       "211          States with the most people on food stamps   \n",
       "717   Black faith is under attack: How to make sense...   \n",
       "927   Providing Balanced Information Is Not Facebook...   \n",
       "1152  Donald Trump Call For Immediate Shutdown of Cl...   \n",
       "\n",
       "                                                   text label  y_validation  \\\n",
       "113   In the two years since the horrific marathon b...  REAL             0   \n",
       "211   With grocery bills priced as high as $1,300 pe...  REAL             0   \n",
       "717   When I woke up on Thursday morning, the world ...  REAL             0   \n",
       "927   Catherine R. Squires is a professor of communi...  REAL             0   \n",
       "1152  Donald Trump called this morning for the Clint...  REAL             0   \n",
       "\n",
       "      rf_validation  xgb_validation  svm_validation  nb_validation  \\\n",
       "113               1               1               1              1   \n",
       "211               1               1               1              1   \n",
       "717               1               1               1              1   \n",
       "927               1               1               1              1   \n",
       "1152              1               1               1              1   \n",
       "\n",
       "      sum_classifications  \n",
       "113                     4  \n",
       "211                     4  \n",
       "717                     4  \n",
       "927                     4  \n",
       "1152                    4  "
      ]
     },
     "execution_count": 75,
     "metadata": {},
     "output_type": "execute_result"
    }
   ],
   "source": [
    "df_validation.loc[(df_validation.y_validation == 0) & (df_validation.sum_classifications == 4)]"
   ]
  },
  {
   "cell_type": "code",
   "execution_count": 76,
   "id": "d391c74a-2398-4591-a25e-cb09ba3fc363",
   "metadata": {
    "tags": []
   },
   "outputs": [
    {
     "data": {
      "text/plain": [
       "'In the two years since the horrific marathon bombing, Boston has been nothing less than resilient. The city has stood defiant and proud even as it painfully relived those grim events during a trial and persevered through a winter of record blizzards. But now, spring has come again, and we remember on this Patriots’ Day that if history is any guide, it holds not only the promise of Boston’s continued steadfastness, but also an affirmation from across America that Boston does not stand alone, and never has.\\n\\nAs far back as 1775 and predating our nation’s independence, Boston stood strong against those who would do the city harm. Punished for the singular act of dumping tea into Boston Harbor and the far broader initiatives of Massachusetts toward representative government, Boston chafed under the onerous provisions of what rebels called the Intolerable Acts. Chief among them was the Boston Port Bill, which closed Boston Harbor to commerce and effectively strangled the city. The question on the minds of many—regardless of political persuasion or sympathy—went to the crux of the future: Would Boston stand alone or would a slowly evolving fabric of national identity and purpose rally to its support?\\n\\nA wide swath of colonial America responded. Support in the form of cash, goods, livestock, and crops poured into Boston, not only from surrounding Massachusetts and New England, but also from Virginia, South Carolina, and even far-off Georgia. Samuel Adams, rebel chairman of Boston’s quasi-governmental Committee of Correspondence, was quick to dispatch effusive letters of thanks for this generosity, but Adams also used these communications to emphasize the broader ramifications of Boston’s plight: If the British crown could do this to Boston, what was to keep it from visiting similar retribution on other cities?\\n\\nIn Farmington, Connecticut, almost one thousand people gathered to protest blocking the port of Boston and find the resulting indignities and deprivations to Boston oppressive as well as personal. “We, and every American,” the townspeople declared, “are sharers in the insults offered to the town of Boston.”\\n\\nBut humanitarian aid was one thing, armed rebellion in support of political ideals quite another. The spark drawing an irrevocable line between the two came on the April morning commemorated by Patriots’ Day, when British regulars marched onto Lexington Green and confronted local militia. Before the day was out, sporadic gunfire there and at Concord’s North Bridge unleashed a fury of pent-up emotions on both sides that exploded into all-out warfare. Within weeks, Boston was a city tightly guarded by nervous British soldiers and besieged by colonial militias.\\n\\nRebel leaders who fled Boston were determined that whatever happened next, the city must not stand alone. John Hancock and the Adams cousins, Samuel and John, aggressively recruited further support from throughout the colonies. These April events could not be seen as just a local Boston incident or even a Massachusetts insurrection, but rather as an American revolution. Patriots from Connecticut to New York and from Virginia to South Carolina responded and recognized that but for the spark at Lexington and Concord, Boston’s fight might very well be occurring in their own backyards.\\n\\nTwo hundred and forty years ago, patriots throughout the colonies recognized that the fundamental liberties at stake in Boston went well beyond its streets and thus, the fundamental duty to fight when necessary to preserve those liberties also went well beyond Boston. For my part,” a gentleman farmer from Virginia by the name of George Washington had written a few months earlier, “I shall not undertake to say where the line between Great Britain and the colonies should be drawn, but I am clearly of opinion, that one ought to be drawn, and our rights clearly ascertained.” It is no different today. We have so much in this country that is good and just, but we must not take any of it for granted. The times remain tenuous and uncertain. We will not bend to terrorism. We will not compromise principle.\\n\\nBoston’s resiliency these past two years in the face of unspeakable and senseless tragedy comes as no surprise. Boston has and always will stand strong, and its resolve is a summons that America will not allow random acts of terrorism or any force to threaten the underlying fabric of our national identity. Then as now, this city calls us to patriotism and reminds us of the strength of our nation. Merely remembering Boston is not the same as standing with Boston. This Patriots’ Day we remember that only by standing with Boston can we preserve our fundamental freedoms and affirm that Boston does not stand alone.\\n\\nHistorian Walter R. Borneman is the author of \"MacArthur at War: World War II in the Pacific\" just published by Little, Brown.'"
      ]
     },
     "execution_count": 76,
     "metadata": {},
     "output_type": "execute_result"
    }
   ],
   "source": [
    "df_validation.iloc[113].text"
   ]
  },
  {
   "cell_type": "code",
   "execution_count": 77,
   "id": "343e2265-8cef-47ca-9bf6-d8304fd06d03",
   "metadata": {},
   "outputs": [
    {
     "data": {
      "text/plain": [
       "\"With grocery bills priced as high as $1,300 per month as of late, some American workers simply cannot afford all of their groceries on top of everything else they already have to buy. This is why the government offers food stamps.\\n\\nThe USDA Food and Nutrition Service reports that as of September 2014, there were around 46.5 million individual food stamp recipients (22.7 million households) receiving an average benefit of $123.74 each (around $257 per household).\\n\\nTo be eligible, a household has to earn a gross income amount that's less than 130% of the poverty level, or a net income amount (gross income minus deductions) that's less than 100% of the poverty level for their family size.\\n\\nThis means, a single person can be eligible for food stamps if his or her gross monthly income is under $1,265 ($15,180 per year), and a family of four can be eligible if they gross less than $2,584 per month ($31,008 per year). The applicant also can't be a wealthy person who simply doesn't have a steady income source. So, if the applicant has thousands of dollars sitting in the bank, for instance, they won't apply as cash assets are considered as well.\\n\\nMORE: 5 reasons why your grocery bills are so high\\n\\nMORE:5 jobs that pay more than you think\\n\\nMORE:5 jobs that can make more money than a doctor\\n\\nSo overall, the program makes perfect sense on paper. It sounds completely reasonable: If you earn too little money, you can temporarily receive a card for your groceries for a while. Food stamps help millions of individuals and families, but the corresponding billions of dollars that the program costs make some taxpayers critical of it.\\n\\nA taxpayer's view of the welfare system depends on many factors — his or her upbringing, personal experiences, and even where he or she lives. In some areas of the country, food stamp use is more common than in others.\\n\\nWe've created a list of the states that have the most food stamp recipients per capita. To determine the states on this list, we used the USDA Food Nutrition Service's most recent state-by-state data, coupled with population data from the Census Bureau. States with the highest number of food stamp participants relative to population ranked highest. We've also included a state-by-state breakdown of food stamp use in all 50 states and the District of Columbia\\n\\nStates with the most people on food stamps:\\n\\n• Percentage of the state's population on food stamps: 18.67%\\n\\n• Total cost of just these benefits alone (That is, how much do just the money on those EBT cards cost the state): Around $107.4 million\\n\\n• Cost of benefits alone per capita in this state: $23.10\\n\\n• Number of food stamp recipients: Just over 1.28 million\\n\\n• Percentage of the state's population on food stamps: 19.58%\\n\\n• Total cost of just these benefits alone (That is, how much do just the money on those EBT cards cost the state?): Around $158.7 million\\n\\n• Cost of benefits alone per capita in this state: $24.23\\n\\n• Percentage of the state's population on food stamps: 19.93%\\n\\n• Total cost of just these benefits alone (That is, how much do just the money on those EBT cards cost the state?): Around $98 million\\n\\n• Cost of benefits alone per capita in this state: $24.66 per person\\n\\n• Percentage of the state's population on food stamps: 19.96%\\n\\n• Total cost of just these benefits alone (That is, how much do just the money on those EBT cards cost the state?): Around $45.7 million\\n\\n• Cost of benefits alone per capita in this state: $24.69 per person\\n\\n• Percentage of the state's population on food stamps: 21.5%\\n\\n• Total cost of just these benefits alone (That is, how much do just the money on those EBT cards cost the state?): Around $55.5 million\\n\\n• Cost of benefits alone per capita in this state: $26.60 per person\\n\\n• Percentage of the state's population on food stamps: 21.74%\\n\\n• Total cost of just these benefits alone (That is, how much do just the money on those EBT cards cost the state?): Around $80.5 million\\n\\n• Estimated cost of benefits alone per capita in this state: $26.90 per person\\n\\n• Percentage of the state's population on food stamps: 21.97%\\n\\n• Total cost of just these benefits alone (That is, how much do just the money on those EBT cards cost the state?): Around $18 million\\n\\n• Estimated cost of benefits alone per capita in this state: $27.19 per person\\n\\nThe Cheat Sheet is a USA TODAY content partner offering financial news and commentary. Its content is produced independently of USA TODAY.\""
      ]
     },
     "execution_count": 77,
     "metadata": {},
     "output_type": "execute_result"
    }
   ],
   "source": [
    "df_validation.iloc[211].text"
   ]
  },
  {
   "cell_type": "markdown",
   "id": "10d8c783-bb2f-4bb7-a0c4-baca21805976",
   "metadata": {},
   "source": [
    "É possível perceber algumas notícias reais que utilizaram termos superlativos e imperativos em seu texto sendo classificadas como fake pelos algorítmos. Felizmente isso ocorreu com apenas 5 notícias da base de 1267 "
   ]
  },
  {
   "cell_type": "markdown",
   "id": "b8a3242d-433a-4663-b145-7f4065af820f",
   "metadata": {},
   "source": [
    "## Notícias fakes classificadas como reais por todos algorítmos"
   ]
  },
  {
   "cell_type": "code",
   "execution_count": 78,
   "id": "97b9f362-09a4-4d5d-8857-6e5f243b4298",
   "metadata": {},
   "outputs": [
    {
     "data": {
      "text/html": [
       "<div>\n",
       "<style scoped>\n",
       "    .dataframe tbody tr th:only-of-type {\n",
       "        vertical-align: middle;\n",
       "    }\n",
       "\n",
       "    .dataframe tbody tr th {\n",
       "        vertical-align: top;\n",
       "    }\n",
       "\n",
       "    .dataframe thead th {\n",
       "        text-align: right;\n",
       "    }\n",
       "</style>\n",
       "<table border=\"1\" class=\"dataframe\">\n",
       "  <thead>\n",
       "    <tr style=\"text-align: right;\">\n",
       "      <th></th>\n",
       "      <th>title</th>\n",
       "      <th>text</th>\n",
       "      <th>label</th>\n",
       "      <th>y_validation</th>\n",
       "      <th>rf_validation</th>\n",
       "      <th>xgb_validation</th>\n",
       "      <th>svm_validation</th>\n",
       "      <th>nb_validation</th>\n",
       "      <th>sum_classifications</th>\n",
       "    </tr>\n",
       "  </thead>\n",
       "  <tbody>\n",
       "    <tr>\n",
       "      <th>117</th>\n",
       "      <td>Trump Is Deadbeating On His Campaign Debts By ...</td>\n",
       "      <td>The Washington Post reported: Donald Trump’s h...</td>\n",
       "      <td>FAKE</td>\n",
       "      <td>1</td>\n",
       "      <td>0</td>\n",
       "      <td>0</td>\n",
       "      <td>0</td>\n",
       "      <td>0</td>\n",
       "      <td>0</td>\n",
       "    </tr>\n",
       "    <tr>\n",
       "      <th>471</th>\n",
       "      <td>Migrants FLOOD Into U.S. From Mexico Right Bef...</td>\n",
       "      <td>With 12 days to go until the election, all eye...</td>\n",
       "      <td>FAKE</td>\n",
       "      <td>1</td>\n",
       "      <td>0</td>\n",
       "      <td>0</td>\n",
       "      <td>0</td>\n",
       "      <td>0</td>\n",
       "      <td>0</td>\n",
       "    </tr>\n",
       "    <tr>\n",
       "      <th>495</th>\n",
       "      <td>Suspect captured in ‘ambush-style’ killings of...</td>\n",
       "      <td>Suspect captured in ‘ambush-style’ killings of...</td>\n",
       "      <td>FAKE</td>\n",
       "      <td>1</td>\n",
       "      <td>0</td>\n",
       "      <td>0</td>\n",
       "      <td>0</td>\n",
       "      <td>0</td>\n",
       "      <td>0</td>\n",
       "    </tr>\n",
       "    <tr>\n",
       "      <th>616</th>\n",
       "      <td>Little-Loved by Scholars, Trump Also Gets Litt...</td>\n",
       "      <td>Little-Loved by Scholars, Trump Also Gets Litt...</td>\n",
       "      <td>FAKE</td>\n",
       "      <td>1</td>\n",
       "      <td>0</td>\n",
       "      <td>0</td>\n",
       "      <td>0</td>\n",
       "      <td>0</td>\n",
       "      <td>0</td>\n",
       "    </tr>\n",
       "    <tr>\n",
       "      <th>781</th>\n",
       "      <td>Trump Dedicates D.C. Hotel: 'The Future Lies W...</td>\n",
       "      <td>\\nRepublican presidential nominee Donald Trum...</td>\n",
       "      <td>FAKE</td>\n",
       "      <td>1</td>\n",
       "      <td>0</td>\n",
       "      <td>0</td>\n",
       "      <td>0</td>\n",
       "      <td>0</td>\n",
       "      <td>0</td>\n",
       "    </tr>\n",
       "    <tr>\n",
       "      <th>855</th>\n",
       "      <td>Donald Trump Elected 45th President Of The Uni...</td>\n",
       "      <td>Via AP : \\nDonald Trump was elected America’s ...</td>\n",
       "      <td>FAKE</td>\n",
       "      <td>1</td>\n",
       "      <td>0</td>\n",
       "      <td>0</td>\n",
       "      <td>0</td>\n",
       "      <td>0</td>\n",
       "      <td>0</td>\n",
       "    </tr>\n",
       "    <tr>\n",
       "      <th>929</th>\n",
       "      <td>Police: Oklahoma Double Murder Suspect Has Hit...</td>\n",
       "      <td>Yahoo News \\nA 38-year-old Oklahoma man who ha...</td>\n",
       "      <td>FAKE</td>\n",
       "      <td>1</td>\n",
       "      <td>0</td>\n",
       "      <td>0</td>\n",
       "      <td>0</td>\n",
       "      <td>0</td>\n",
       "      <td>0</td>\n",
       "    </tr>\n",
       "    <tr>\n",
       "      <th>938</th>\n",
       "      <td>Fact Check: Democrats Have Created Twice As Ma...</td>\n",
       "      <td>Comments \\nDemocrats are better for the econom...</td>\n",
       "      <td>FAKE</td>\n",
       "      <td>1</td>\n",
       "      <td>0</td>\n",
       "      <td>0</td>\n",
       "      <td>0</td>\n",
       "      <td>0</td>\n",
       "      <td>0</td>\n",
       "    </tr>\n",
       "    <tr>\n",
       "      <th>1132</th>\n",
       "      <td>Memo to Trump: 'Action This Day!'</td>\n",
       "      <td>=&gt; \\n“In victory, magnanimity!” said Winston...</td>\n",
       "      <td>FAKE</td>\n",
       "      <td>1</td>\n",
       "      <td>0</td>\n",
       "      <td>0</td>\n",
       "      <td>0</td>\n",
       "      <td>0</td>\n",
       "      <td>0</td>\n",
       "    </tr>\n",
       "    <tr>\n",
       "      <th>1250</th>\n",
       "      <td>National Attention On Ayotte - Hassan (*NH) Se...</td>\n",
       "      <td>Maggie Hassan, left and Kelly Ayotte Hassan de...</td>\n",
       "      <td>FAKE</td>\n",
       "      <td>1</td>\n",
       "      <td>0</td>\n",
       "      <td>0</td>\n",
       "      <td>0</td>\n",
       "      <td>0</td>\n",
       "      <td>0</td>\n",
       "    </tr>\n",
       "  </tbody>\n",
       "</table>\n",
       "</div>"
      ],
      "text/plain": [
       "                                                  title  \\\n",
       "117   Trump Is Deadbeating On His Campaign Debts By ...   \n",
       "471   Migrants FLOOD Into U.S. From Mexico Right Bef...   \n",
       "495   Suspect captured in ‘ambush-style’ killings of...   \n",
       "616   Little-Loved by Scholars, Trump Also Gets Litt...   \n",
       "781   Trump Dedicates D.C. Hotel: 'The Future Lies W...   \n",
       "855   Donald Trump Elected 45th President Of The Uni...   \n",
       "929   Police: Oklahoma Double Murder Suspect Has Hit...   \n",
       "938   Fact Check: Democrats Have Created Twice As Ma...   \n",
       "1132                  Memo to Trump: 'Action This Day!'   \n",
       "1250  National Attention On Ayotte - Hassan (*NH) Se...   \n",
       "\n",
       "                                                   text label  y_validation  \\\n",
       "117   The Washington Post reported: Donald Trump’s h...  FAKE             1   \n",
       "471   With 12 days to go until the election, all eye...  FAKE             1   \n",
       "495   Suspect captured in ‘ambush-style’ killings of...  FAKE             1   \n",
       "616   Little-Loved by Scholars, Trump Also Gets Litt...  FAKE             1   \n",
       "781    \\nRepublican presidential nominee Donald Trum...  FAKE             1   \n",
       "855   Via AP : \\nDonald Trump was elected America’s ...  FAKE             1   \n",
       "929   Yahoo News \\nA 38-year-old Oklahoma man who ha...  FAKE             1   \n",
       "938   Comments \\nDemocrats are better for the econom...  FAKE             1   \n",
       "1132    => \\n“In victory, magnanimity!” said Winston...  FAKE             1   \n",
       "1250  Maggie Hassan, left and Kelly Ayotte Hassan de...  FAKE             1   \n",
       "\n",
       "      rf_validation  xgb_validation  svm_validation  nb_validation  \\\n",
       "117               0               0               0              0   \n",
       "471               0               0               0              0   \n",
       "495               0               0               0              0   \n",
       "616               0               0               0              0   \n",
       "781               0               0               0              0   \n",
       "855               0               0               0              0   \n",
       "929               0               0               0              0   \n",
       "938               0               0               0              0   \n",
       "1132              0               0               0              0   \n",
       "1250              0               0               0              0   \n",
       "\n",
       "      sum_classifications  \n",
       "117                     0  \n",
       "471                     0  \n",
       "495                     0  \n",
       "616                     0  \n",
       "781                     0  \n",
       "855                     0  \n",
       "929                     0  \n",
       "938                     0  \n",
       "1132                    0  \n",
       "1250                    0  "
      ]
     },
     "execution_count": 78,
     "metadata": {},
     "output_type": "execute_result"
    }
   ],
   "source": [
    "df_validation.loc[(df_validation.y_validation == 1) & (df_validation.sum_classifications == 0)]"
   ]
  },
  {
   "cell_type": "code",
   "execution_count": 79,
   "id": "cfe892b3-329a-4bda-8928-6cd11f43463c",
   "metadata": {},
   "outputs": [
    {
     "data": {
      "text/plain": [
       "'The Washington Post reported: Donald Trump’s hiring of pollster Tony Fabrizio in May was viewed as a sign that the real estate mogul was finally bringing seasoned operatives into his insurgent operation. \\nBut the Republican presidential nominee appears to have taken issue with some of the services provided by the veteran GOP strategist, who has advised candidates from 1996 GOP nominee Bob Dole to Florida Gov. Rick Scott. The Trump campaign’s latest Federal Election Commission report shows that it is disputing nearly $767,000 that Fabrizio’s firm says it is still owed for polling. \\nTrump’s decision not to pay his pollster is the first of this type of story but given Trump’s history of not paying for services performed; it won’t be the last. It is astonishing that the party of supposed fiscal responsibility and conservativism would put someone forward as their presidential nominee who has made a career out of running up debt for personal gain. \\nDonald Trump’s mentality has always been to put himself first. Paying his debts never seems to have been a top priority for Trump. His businesses have been stiffing vendors and contractors for decades, so it isn’t surprising that he would bring this same mentality to the presidential campaign. \\nAnybody who works for the Trump campaign would be smart to get paid up front because Donald Trump’s version of making America great involves taking your money and putting it in his own pocket. \\nTrump Is Deadbeating On His Campaign Debts By Refusing To Pay His Own Pollster added by Jason Easley on Mon, Oct 31st, 2016'"
      ]
     },
     "execution_count": 79,
     "metadata": {},
     "output_type": "execute_result"
    }
   ],
   "source": [
    "df_validation.iloc[117].text"
   ]
  },
  {
   "cell_type": "code",
   "execution_count": 80,
   "id": "7b1a9fc3-bad8-4b22-ad0b-884ee96cc841",
   "metadata": {},
   "outputs": [
    {
     "data": {
      "text/plain": [
       "'Comments \\nDemocrats are better for the economy. This statement is not an opinion, but a fact. According to economist Steven Stoft, who created a series of graphs charting job creation under each party over the last 72 years (during which time Democrats and Republicans have held control for 36 years each), Democrats have created 58 million jobs while Republicans can only claim 26 million . \\nFor roughly the last century, electing a Democrat has been the better option for the economy, with Dems creating more than double the jobs than that of Republicans, and faster. \\nEven when taking the percent change of number of jobs held, or scaling population (to avoid counting an increased population, thus falsely indicating an increase in jobs), Democrats still prove more successful than Republicans in job creation, and by a wide margin. \\nAnother way of studying job creation is to take unemployment into account. When a Democrat is in the White House, logically unemployment decreases as well. By this rational, of course, when a GOP takes the Oval Office unemployment rises (and has risen under this party) since 1945. \\nIndeed, this extends to state and federal levels—the top 20 years of national GDP growth have all been under a Democrat. This is not only true for GDP, but for all economic growth in general—extending to the stock market, income growth and debt as a percentage of GDP. \\nAs if you needed more proof that the blue party is better for the economy, simply turn to the numbers over the last 70 years. When it comes time for Election Day, it’s a matter of fact that with every Democratic ballot cast, it’s almost guaranteed the country will be in a better economic position than if a Republican is sworn in.'"
      ]
     },
     "execution_count": 80,
     "metadata": {},
     "output_type": "execute_result"
    }
   ],
   "source": [
    "df_validation.iloc[938].text"
   ]
  },
  {
   "cell_type": "markdown",
   "id": "9f02f783-81a4-46eb-9ace-650ebca7131d",
   "metadata": {},
   "source": [
    "É possível perceber algumas notícias fakes que foram bem escritas e conseguem se passar por notícias reais, enganando os classificadores. Felizmente isso ocorreu com apenas 10 notícias da base de 1267 "
   ]
  },
  {
   "cell_type": "markdown",
   "id": "8edc0302-00f0-4479-92e3-561869f3a989",
   "metadata": {},
   "source": [
    "## Verificando todas as combinações"
   ]
  },
  {
   "cell_type": "code",
   "execution_count": 81,
   "id": "098d1de7-1c2e-4e25-84b7-e31a0a3ffa36",
   "metadata": {},
   "outputs": [
    {
     "data": {
      "text/html": [
       "<div>\n",
       "<style scoped>\n",
       "    .dataframe tbody tr th:only-of-type {\n",
       "        vertical-align: middle;\n",
       "    }\n",
       "\n",
       "    .dataframe tbody tr th {\n",
       "        vertical-align: top;\n",
       "    }\n",
       "\n",
       "    .dataframe thead th {\n",
       "        text-align: right;\n",
       "    }\n",
       "</style>\n",
       "<table border=\"1\" class=\"dataframe\">\n",
       "  <thead>\n",
       "    <tr style=\"text-align: right;\">\n",
       "      <th></th>\n",
       "      <th></th>\n",
       "      <th>text</th>\n",
       "    </tr>\n",
       "    <tr>\n",
       "      <th>y_validation</th>\n",
       "      <th>sum_classifications</th>\n",
       "      <th></th>\n",
       "    </tr>\n",
       "  </thead>\n",
       "  <tbody>\n",
       "    <tr>\n",
       "      <th rowspan=\"5\" valign=\"top\">0</th>\n",
       "      <th>0</th>\n",
       "      <td>493</td>\n",
       "    </tr>\n",
       "    <tr>\n",
       "      <th>1</th>\n",
       "      <td>54</td>\n",
       "    </tr>\n",
       "    <tr>\n",
       "      <th>2</th>\n",
       "      <td>24</td>\n",
       "    </tr>\n",
       "    <tr>\n",
       "      <th>3</th>\n",
       "      <td>24</td>\n",
       "    </tr>\n",
       "    <tr>\n",
       "      <th>4</th>\n",
       "      <td>5</td>\n",
       "    </tr>\n",
       "    <tr>\n",
       "      <th rowspan=\"5\" valign=\"top\">1</th>\n",
       "      <th>0</th>\n",
       "      <td>10</td>\n",
       "    </tr>\n",
       "    <tr>\n",
       "      <th>1</th>\n",
       "      <td>23</td>\n",
       "    </tr>\n",
       "    <tr>\n",
       "      <th>2</th>\n",
       "      <td>46</td>\n",
       "    </tr>\n",
       "    <tr>\n",
       "      <th>3</th>\n",
       "      <td>123</td>\n",
       "    </tr>\n",
       "    <tr>\n",
       "      <th>4</th>\n",
       "      <td>440</td>\n",
       "    </tr>\n",
       "  </tbody>\n",
       "</table>\n",
       "</div>"
      ],
      "text/plain": [
       "                                  text\n",
       "y_validation sum_classifications      \n",
       "0            0                     493\n",
       "             1                      54\n",
       "             2                      24\n",
       "             3                      24\n",
       "             4                       5\n",
       "1            0                      10\n",
       "             1                      23\n",
       "             2                      46\n",
       "             3                     123\n",
       "             4                     440"
      ]
     },
     "execution_count": 81,
     "metadata": {},
     "output_type": "execute_result"
    }
   ],
   "source": [
    "df_validation[['y_validation', 'sum_classifications', 'text']].groupby(['y_validation', 'sum_classifications']).agg({'text':'nunique'})"
   ]
  },
  {
   "cell_type": "markdown",
   "id": "03513638-e5ed-4589-80c1-937fdbce1c77",
   "metadata": {},
   "source": [
    "É possível perceber que a maioria das noticias reais foi classificada corretamente por todos os modelos e 75% do total de notícias da base foi classificado corretamente por todos os modelos. Apenas 1,2% foram classificadas incorretamente por todos os modelos."
   ]
  },
  {
   "cell_type": "markdown",
   "id": "d90f8011-5f87-4a15-9b2a-7017523662b6",
   "metadata": {},
   "source": [
    "Em relação as notícias fakes, 69% foram classificadas corretamente por todos os algorítmos e 88% por pelo menos três modelos diferentes. Apenas 1,6% foram classificadas como notícia real por todos."
   ]
  },
  {
   "cell_type": "markdown",
   "id": "0dcf85d2-9874-4c15-b20a-a99e3b660f55",
   "metadata": {},
   "source": [
    "# Conclusões"
   ]
  },
  {
   "cell_type": "markdown",
   "id": "84dedfef-8598-43b2-a214-67c57d71c393",
   "metadata": {},
   "source": [
    "Os quatro modelo parecem se completar e é uma boa estratégia mostrar os resultados de todos em uma aplicação. Indicando categoricamente se a notícia pode ou não ser fake e mostrando o resultado dos quatro classificadores, juntamente com a probabilidade calculada por cada modelo da notícia ser fake."
   ]
  },
  {
   "cell_type": "markdown",
   "id": "61cbb8ef-603a-4a82-88a4-2a2c1fed21be",
   "metadata": {},
   "source": [
    "Os dados serão exibidos categoricamente da seguinte forma:\n",
    "\n",
    "- Se nenhum modelo classificou como fake: \"Essa notícia provavelmente não é fake.\"\n",
    "- Se apenas um modelo classificou como fake: \"Essa notícia possui poucas chances de ser fake.\"\n",
    "- Se dois modelos classificaram como fake: \"Essa notícia pode ser fake.\"\n",
    "- Se três modelos classificaram como fake: \"Essa notícia possui muita chance de ser fake.\"\n",
    "- Se todos modelos classificaram como fake: \"Essa notícia provavelmente é fake.\""
   ]
  }
 ],
 "metadata": {
  "kernelspec": {
   "display_name": "Python 3 (ipykernel)",
   "language": "python",
   "name": "python3"
  },
  "language_info": {
   "codemirror_mode": {
    "name": "ipython",
    "version": 3
   },
   "file_extension": ".py",
   "mimetype": "text/x-python",
   "name": "python",
   "nbconvert_exporter": "python",
   "pygments_lexer": "ipython3",
   "version": "3.9.12"
  }
 },
 "nbformat": 4,
 "nbformat_minor": 5
}
